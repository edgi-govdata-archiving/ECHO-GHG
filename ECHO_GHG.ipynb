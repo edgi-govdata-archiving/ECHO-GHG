{
  "nbformat": 4,
  "nbformat_minor": 0,
  "metadata": {
    "colab": {
      "name": "ECHO-GHG",
      "provenance": [],
      "collapsed_sections": []
    },
    "kernelspec": {
      "display_name": "Python 3",
      "language": "python",
      "name": "python3"
    },
    "language_info": {
      "codemirror_mode": {
        "name": "ipython",
        "version": 3
      },
      "file_extension": ".py",
      "mimetype": "text/x-python",
      "name": "python",
      "nbconvert_exporter": "python",
      "pygments_lexer": "ipython3",
      "version": "3.7.2"
    },
    "widgets": {
      "application/vnd.jupyter.widget-state+json": {
        "b987ec56d0964fc1a6fa292f02bb1788": {
          "model_module": "@jupyter-widgets/controls",
          "model_name": "RadioButtonsModel",
          "model_module_version": "1.5.0",
          "state": {
            "_options_labels": [
              "Emitters",
              "Suppliers"
            ],
            "_view_name": "RadioButtonsView",
            "style": "IPY_MODEL_c22632d5a0ff4a53b36e6ccb510d424b",
            "_dom_classes": [],
            "description": "Type: ",
            "_model_name": "RadioButtonsModel",
            "index": 1,
            "_view_module": "@jupyter-widgets/controls",
            "_model_module_version": "1.5.0",
            "_view_count": null,
            "disabled": false,
            "_view_module_version": "1.5.0",
            "description_tooltip": null,
            "_model_module": "@jupyter-widgets/controls",
            "layout": "IPY_MODEL_534188128cd94c44b12a2400dc4e93bd"
          }
        },
        "c22632d5a0ff4a53b36e6ccb510d424b": {
          "model_module": "@jupyter-widgets/controls",
          "model_name": "DescriptionStyleModel",
          "model_module_version": "1.5.0",
          "state": {
            "_view_name": "StyleView",
            "_model_name": "DescriptionStyleModel",
            "description_width": "",
            "_view_module": "@jupyter-widgets/base",
            "_model_module_version": "1.5.0",
            "_view_count": null,
            "_view_module_version": "1.2.0",
            "_model_module": "@jupyter-widgets/controls"
          }
        },
        "534188128cd94c44b12a2400dc4e93bd": {
          "model_module": "@jupyter-widgets/base",
          "model_name": "LayoutModel",
          "model_module_version": "1.2.0",
          "state": {
            "_view_name": "LayoutView",
            "grid_template_rows": null,
            "right": null,
            "justify_content": null,
            "_view_module": "@jupyter-widgets/base",
            "overflow": null,
            "_model_module_version": "1.2.0",
            "_view_count": null,
            "flex_flow": null,
            "width": null,
            "min_width": null,
            "border": null,
            "align_items": null,
            "bottom": null,
            "_model_module": "@jupyter-widgets/base",
            "top": null,
            "grid_column": null,
            "overflow_y": null,
            "overflow_x": null,
            "grid_auto_flow": null,
            "grid_area": null,
            "grid_template_columns": null,
            "flex": null,
            "_model_name": "LayoutModel",
            "justify_items": null,
            "grid_row": null,
            "max_height": null,
            "align_content": null,
            "visibility": null,
            "align_self": null,
            "height": null,
            "min_height": null,
            "padding": null,
            "grid_auto_rows": null,
            "grid_gap": null,
            "max_width": null,
            "order": null,
            "_view_module_version": "1.2.0",
            "grid_template_areas": null,
            "object_position": null,
            "object_fit": null,
            "grid_auto_columns": null,
            "margin": null,
            "display": null,
            "left": null
          }
        },
        "75eea3644a2f419ea7e58252b7aa7a90": {
          "model_module": "@jupyter-widgets/controls",
          "model_name": "DropdownModel",
          "model_module_version": "1.5.0",
          "state": {
            "_options_labels": [
              "AK",
              "AL",
              "AR",
              "AZ",
              "CA",
              "CO",
              "CT",
              "DE",
              "FL",
              "GA",
              "HI",
              "IA",
              "ID",
              "IL",
              "IN",
              "KS",
              "KY",
              "LA",
              "MA",
              "MD",
              "ME",
              "MI",
              "MN",
              "MO",
              "MS",
              "MT",
              "NC",
              "ND",
              "NE",
              "NH",
              "NJ",
              "NM",
              "NV",
              "NY",
              "OH",
              "OK",
              "OR",
              "PA",
              "RI",
              "SC",
              "SD",
              "TN",
              "TX",
              "UT",
              "VA",
              "VI",
              "VT",
              "WA",
              "WI",
              "WV",
              "WY"
            ],
            "_view_name": "DropdownView",
            "style": "IPY_MODEL_ae1152d389aa4165b1f8fbfee5163517",
            "_dom_classes": [],
            "description": "Select a state:",
            "_model_name": "DropdownModel",
            "index": 11,
            "_view_module": "@jupyter-widgets/controls",
            "_model_module_version": "1.5.0",
            "_view_count": null,
            "disabled": false,
            "_view_module_version": "1.5.0",
            "description_tooltip": null,
            "_model_module": "@jupyter-widgets/controls",
            "layout": "IPY_MODEL_7ffa56af511d4150beee7443bbb7ade6"
          }
        },
        "ae1152d389aa4165b1f8fbfee5163517": {
          "model_module": "@jupyter-widgets/controls",
          "model_name": "DescriptionStyleModel",
          "model_module_version": "1.5.0",
          "state": {
            "_view_name": "StyleView",
            "_model_name": "DescriptionStyleModel",
            "description_width": "",
            "_view_module": "@jupyter-widgets/base",
            "_model_module_version": "1.5.0",
            "_view_count": null,
            "_view_module_version": "1.2.0",
            "_model_module": "@jupyter-widgets/controls"
          }
        },
        "7ffa56af511d4150beee7443bbb7ade6": {
          "model_module": "@jupyter-widgets/base",
          "model_name": "LayoutModel",
          "model_module_version": "1.2.0",
          "state": {
            "_view_name": "LayoutView",
            "grid_template_rows": null,
            "right": null,
            "justify_content": null,
            "_view_module": "@jupyter-widgets/base",
            "overflow": null,
            "_model_module_version": "1.2.0",
            "_view_count": null,
            "flex_flow": null,
            "width": null,
            "min_width": null,
            "border": null,
            "align_items": null,
            "bottom": null,
            "_model_module": "@jupyter-widgets/base",
            "top": null,
            "grid_column": null,
            "overflow_y": null,
            "overflow_x": null,
            "grid_auto_flow": null,
            "grid_area": null,
            "grid_template_columns": null,
            "flex": null,
            "_model_name": "LayoutModel",
            "justify_items": null,
            "grid_row": null,
            "max_height": null,
            "align_content": null,
            "visibility": null,
            "align_self": null,
            "height": null,
            "min_height": null,
            "padding": null,
            "grid_auto_rows": null,
            "grid_gap": null,
            "max_width": null,
            "order": null,
            "_view_module_version": "1.2.0",
            "grid_template_areas": null,
            "object_position": null,
            "object_fit": null,
            "grid_auto_columns": null,
            "margin": null,
            "display": null,
            "left": null
          }
        }
      }
    }
  },
  "cells": [
    {
      "cell_type": "markdown",
      "metadata": {
        "id": "Ylalhm0wbt2p"
      },
      "source": [
        "| ![EEW logo](https://github.com/edgi-govdata-archiving/EEW-Image-Assets/blob/master/Jupyter%20instructions/eew.jpg?raw=true) | ![EDGI logo](https://github.com/edgi-govdata-archiving/EEW-Image-Assets/blob/master/Jupyter%20instructions/edgi.png?raw=true) |\n",
        "|---|---|\n",
        "\n",
        "#### This Jupyter Notebook is licensed under GPL 3.0. Please visit our Github organization for more information:  https://github.com/edgi-govdata-archiving/\n",
        "#### The notebook was collaboratively authored by the Environmental Data & Governance Initiative (EDGI) following our authorship protocol: https://docs.google.com/document/d/1CtDN5ZZ4Zv70fHiBTmWkDJ9mswEipX6eCYrwicP66Xw/\n",
        "#### For more information about this project, visit https://www.environmentalenforcementwatch.org/"
      ]
    },
    {
      "cell_type": "markdown",
      "metadata": {
        "id": "xwpXPiNLbt2x"
      },
      "source": [
        "## How to Run this Notebook\n",
        "* If you click on a gray **code** cell, a little “play button” arrow appears on the left. If you click the play button, it will run the code in that cell (“**running** a cell”). The button will animate. When the animation stops, the cell has finished running.\n",
        "![Where to click to run the cell](https://github.com/edgi-govdata-archiving/EEW-Image-Assets/blob/master/Jupyter%20instructions/pressplay.JPG?raw=true)\n",
        "* You may get a warning that the notebook was not authored by Google. We know, we authored them! It’s okay. Click “Run Anyway” to continue. \n",
        "![Error Message](https://github.com/edgi-govdata-archiving/EEW-Image-Assets/blob/master/Jupyter%20instructions/warning-message.JPG?raw=true)\n",
        "* Run all of the cells in a Notebook to make a complete report. Please feel free to look at and **learn about each result as you create it**!\n",
        "\n",
        "---"
      ]
    },
    {
      "cell_type": "markdown",
      "metadata": {
        "id": "vU4AqThS-37L"
      },
      "source": [
        "# Who's responsible for greenhouse gas emissions?\n",
        "Under the US Environmental Protection Agency's Greenhouse Gas Reporting Program (GHGRP), a variety of emitters are required to count and report their emissions anually. \n",
        "\n",
        "Conceptually this is similar to reporting pollutant discharages under the Clean Water Act's National Pollutant Discharge Elimination System (NPDES), but whereas NPDES has legal teeth - facilities are permitted to release only so much of a pollutant into the water - there is no such equivalent legislation for GHGs.\n",
        "\n",
        "Facilities reporting GHGs are also required to report information about ownership - the share a parent company has in the facility. Through this information we can determine not just which specific facilities reported the most GHGs every year, but which companies can be said to be the most responible in terms of their ownership of these facilities.\n",
        "\n",
        "The GHGRP does not attempt to account for all of the US's GHG emissions; the [GHG Inventory](https://www.epa.gov/ghgemissions/inventory-us-greenhouse-gas-emissions-and-sinks) does that. But GHGRP focuses on industrial direct emitters and some suppliers above certain thresholds. As EPA notes, \"The GHGRP does not represent total U.S. GHG emissions, but provides facility level data for large sources of direct emissions, thus representing the majority of U.S. GHG emissions. The GHGRP data collected from direct emitters represent about half of all U.S. emissions.\" Including estimates from suppliers of fossil fuels, the GHGRP dataset [can account for](https://www.epa.gov/ghgreporting/learn-about-greenhouse-gas-reporting-program-ghgrp) up to 90% of all US emissions. \n",
        "\n",
        "As EPA [notes](https://ccdsupport.com/confluence/pages/viewpage.action?pageId=98598976), \"Data from direct emitters and suppliers cannot be viewed together because it would cause double counting of emissions in many sectors.  In general, it is more accurate to look at upstream (also called suppliers) data separately from downstream (also called direct emitters) data.\" EPA [elaborates](https://ccdsupport.com/confluence/pages/viewpage.action?pageId=98598975) on the differences between direct emitters and suppliers:\n",
        "\n",
        "> \"Direct emitters\" are facilities that combust fuels or otherwise put GHGs into the atmosphere directly from their facility.  An example of this is a power plant that burns coal or natural gas and emits carbon dioxide directly into the atmosphere....\"Suppliers\" are those entities that supply products into the economy which if combusted, released or oxidized emit greenhouse gases into the atmosphere.  These fuels and industrial gases are not emitted from the supplier facility but instead distributed throughout the country and used.  An example of this is gasoline, which is sold in the U.S. and primarily burned in cars throughout the country.\"\n",
        "\n",
        "This notebook uses self-reported data from both emitters and suppliers to estimate GHG emissions by parent company. For further information about how the EPA's GHGRP works, please see here: https://docs.google.com/presentation/d/1EVtWOFDEeaqZhg1FTf0IsEL3M736hITP5G76q9l6bP0/edit#slide=id.g884825dbd0_0_6 or here: https://www.epa.gov/ghgreporting. For a full FAQ, see: https://ccdsupport.com/confluence/display/faq/GHG+Data+and+Publication"
      ]
    },
    {
      "cell_type": "markdown",
      "metadata": {
        "id": "czia5t5ebt20"
      },
      "source": [
        "# Setup\n",
        "Here we load some helper code to get us going."
      ]
    },
    {
      "cell_type": "code",
      "metadata": {
        "id": "vF3iTaeCbt23",
        "colab": {
          "base_uri": "https://localhost:8080/"
        },
        "outputId": "d07ae40e-bd8d-4326-bfe7-389076b13b8a"
      },
      "source": [
        "# Import code libraries\n",
        "import pandas as pd\n",
        "import requests, zipfile, io\n",
        "!pip install pyxlsb\n",
        "import pyxlsb\n",
        "from IPython.core.display import HTML\n",
        "\n",
        "import warnings\n",
        "warnings.filterwarnings('ignore')\n",
        "\n",
        "# Set up some default parameters for graphing\n",
        "import matplotlib.pyplot as plt\n",
        "from matplotlib import cycler\n",
        "colour = \"#00C2AB\" # The default colour for the barcharts\n",
        "colors = cycler('color', ['#4FBBA9', '#E56D13', '#D43A69','#25539f', '#88BB44', '#FFBBBB'])\n",
        "plt.rc('axes', facecolor='#E6E6E6', edgecolor='none',\n",
        "       axisbelow=True, grid=True, prop_cycle=colors)\n",
        "plt.rc('grid', color='w', linestyle='solid')\n",
        "plt.rc('xtick', direction='out', color='gray')\n",
        "plt.rc('ytick', direction='out', color='gray')\n",
        "plt.rc('patch', edgecolor='#E6E6E6')\n",
        "plt.rc('lines', linewidth=2)\n",
        "font = {'family' : 'DejaVu Sans',\n",
        "        'weight' : 'normal',\n",
        "        'size'   : 16}\n",
        "plt.rc('font', **font)\n",
        "plt.rc('legend', fancybox = True, framealpha=1, shadow=True, borderpad=1)\n",
        "\n",
        "print(\"Done!\")"
      ],
      "execution_count": 14,
      "outputs": [
        {
          "output_type": "stream",
          "name": "stdout",
          "text": [
            "Requirement already satisfied: pyxlsb in /usr/local/lib/python3.7/dist-packages (1.0.9)\n",
            "Done!\n"
          ]
        }
      ]
    },
    {
      "cell_type": "markdown",
      "metadata": {
        "id": "su7_wvKWbt3Z"
      },
      "source": [
        "# Getting emissions data\n",
        "\n",
        "We will \"download\" EPA's emissions data into our notebook here."
      ]
    },
    {
      "cell_type": "code",
      "metadata": {
        "colab": {
          "base_uri": "https://localhost:8080/"
        },
        "id": "el9mEBe3HNQz",
        "outputId": "9f7565d2-c2ac-4750-f0a0-35ad3621a4b7"
      },
      "source": [
        "# First we request EPA's datafile and unzip it.\n",
        "url = \"https://www.epa.gov/system/files/other-files/2021-10/2020_data_summary_spreadsheets.zip\"\n",
        "r = requests.get(url)\n",
        "z = zipfile.ZipFile(io.BytesIO(r.content))\n",
        "z.extractall(\"/content\")\n",
        "\n",
        "# We will load in the sheets in the unzipped XLSX file that contain various kinds of direct emissions, from individual facilities and sectors/activities\n",
        "ghg_fac = pd.read_excel(\"/content/ghgp_data_2020.xlsx\",\n",
        "  skiprows = 1, # skip the first two rows, which are irrelevant\n",
        "  header = 2, # the third row represents the header\n",
        "  converters={'Primary NAICS Code':str}, # read the NAICS codes as strings\n",
        "  sheet_name = [\"Direct Emitters\", \"Onshore Oil & Gas Prod.\", \"Gathering & Boosting\", \n",
        "    \"Transmission Pipelines\", \"LDC - Direct Emissions\", \"SF6 from Elec. Equip.\", \"Suppliers\"]) \n",
        "\n",
        "# We will also load in a file that tells us about the type of industry each facility is classified as\n",
        "naics = pd.read_excel(\"https://www.census.gov/naics/2017NAICS/6-digit_2017_Codes.xlsx\",\n",
        "  header = 0, # the row that represents the header\n",
        "  converters={'2017 NAICS Code':str,'2017 NAICS Title':str}\n",
        ")\n",
        "naics=naics[[\"2017 NAICS Code\", \"2017 NAICS Title\"]]\n",
        "\n",
        "print(\"Data loaded!\")"
      ],
      "execution_count": 82,
      "outputs": [
        {
          "output_type": "stream",
          "name": "stdout",
          "text": [
            "Data loaded!\n"
          ]
        }
      ]
    },
    {
      "cell_type": "code",
      "source": [
        "naics['2017 NAICS Code']=naics['2017 NAICS Code'].astype(str)"
      ],
      "metadata": {
        "id": "wSD4bIdcxLkz"
      },
      "execution_count": 76,
      "outputs": []
    },
    {
      "cell_type": "markdown",
      "metadata": {
        "id": "WDMSJPnuZRNY"
      },
      "source": [
        "## Summarize emissions data by facility\n",
        "\n",
        "The emissions data are presented in several different sections of EPA's spreadsheet, so here we compile them all together. \n",
        "\n",
        "Emissions are measured in metric tons of CO2 equivalent, or tCO2e (see: https://www.theguardian.com/environment/2011/apr/27/co2e-global-warming-potential)\n",
        "\n",
        "As output, we'll show the top 10 direct emitters and the top 10 suppliers."
      ]
    },
    {
      "cell_type": "code",
      "metadata": {
        "colab": {
          "base_uri": "https://localhost:8080/",
          "height": 856
        },
        "id": "xA2uUdqeTiLh",
        "outputId": "2bd96b9c-e218-4e4e-c9c4-4a4aaf0c2600"
      },
      "source": [
        "# First, handle suppliers separately\n",
        "# Treat NaNs as zeros (not reported, maybe not emitted)\n",
        "# Skip \"confidential\" values :(\n",
        "ghg_fac[\"Suppliers\"][\"Emissions (tCO2e)\"] = pd.to_numeric(ghg_fac[\"Suppliers\"][\"GHG Quantity Associated with Coal-based liquid fuel production\"], errors='coerce').fillna(0) + \\\n",
        "  pd.to_numeric(ghg_fac[\"Suppliers\"][\"GHG Quantity Associated with Petroleum Products Produced\"], errors='coerce').fillna(0) + \\\n",
        "  pd.to_numeric(ghg_fac[\"Suppliers\"][\"GHG Quantity Associated with Petroleum Products Imported\"], errors='coerce').fillna(0) + \\\n",
        "  pd.to_numeric(ghg_fac[\"Suppliers\"][\"GHG Quantity Associated with Petroleum Products Exported\"], errors='coerce').fillna(0) + \\\n",
        "  pd.to_numeric(ghg_fac[\"Suppliers\"][\"GHG Quantity Associated with Natural Gas Supply\"], errors='coerce').fillna(0) + \\\n",
        "  pd.to_numeric(ghg_fac[\"Suppliers\"][\"GHG Quantity Associated with Natural Gas Liquids Supply\"], errors='coerce').fillna(0) + \\\n",
        "  pd.to_numeric(ghg_fac[\"Suppliers\"][\"GHG Quantity Associated with CO2 Supply \"], errors='coerce').fillna(0)\n",
        "\n",
        "emissions_field_names = {\n",
        "    \"Direct Emitters\": \"Total reported direct emissions\",\n",
        "    \"Onshore Oil & Gas Prod.\": \"Total reported emissions from Onshore Oil & Gas Production \",\n",
        "    \"Gathering & Boosting\": \"Total reported emissions from Gathering & Boosting\",\n",
        "    \"Transmission Pipelines\": \"Total reported direct emissions from Transmission Pipelines\",\n",
        "    \"LDC - Direct Emissions\": \"Total reported direct emissions from Local Distribution Companies\",\n",
        "    \"SF6 from Elec. Equip.\": \"Total reported direct emissions from Electrical Equipment Use\"\n",
        "}\n",
        "\n",
        "# Create a new DataFrame to store emissions data compiled from direct emitters\n",
        "fac_directemitters_data = pd.DataFrame([], columns=[\"Facility\", \"Name\", \"Primary NAICS Code\", \"Emissions (tCO2e)\"]) \n",
        "# Do the same for suppliers\n",
        "fac_suppliers_data = pd.DataFrame(ghg_fac[\"Suppliers\"]) \n",
        "\n",
        "#Compile emissions data across direct emitters.\n",
        "for key in emissions_field_names.keys():\n",
        "  dump = ghg_fac[key]\n",
        "  dump = dump[[\"Facility Id\", \"Facility Name\", \"Primary NAICS Code\", emissions_field_names[key]]]\n",
        "  dump = dump.rename(columns={\"Facility Id\": \"Facility\", \"Facility Name\": \"Name\", \"Primary NAICS Code\": \"2017 NAICS Code\", emissions_field_names[key]:\"Emissions (tCO2e)\"})\n",
        "  dump[\"Emissions (tCO2e)\"] = pd.to_numeric(dump[\"Emissions (tCO2e)\"])\n",
        "  fac_directemitters_data= fac_directemitters_data.append(dump)\n",
        "\n",
        "# Roll up duplicate facility IDs (facilities with e.g. both direct emissions and onshore oil...)\n",
        "fac_directemitters_data = fac_directemitters_data.groupby(by=[\"Facility\", \"Name\", \"2017 NAICS Code\"]).sum().reset_index() #For presentation purposes, we'll add in the facility name\n",
        "#fac_directemitters_data = fac_directemitters_data.groupby(by=[\"Facility\"]).sum() # For analysis purposes, we'll leave the name off...it'll get added back in when we add it to the parent company table\n",
        "fac_suppliers_data=fac_suppliers_data.rename(columns={\"Facility Id\": \"Facility\", \"Facility Name\": \"Name\", \"Primary NAICS Code\": \"2017 NAICS Code\"})\n",
        "fac_suppliers_data = fac_suppliers_data[[\"Facility\", \"Name\", \"2017 NAICS Code\", \"Emissions (tCO2e)\"]]\n",
        "fac_directemitters_data['2017 NAICS Code']=fac_directemitters_data['2017 NAICS Code'].astype(str)\n",
        "\n",
        "# Look up industry information\n",
        "fac_directemitters_data = fac_directemitters_data.merge(naics, on=\"2017 NAICS Code\")\n",
        "fac_suppliers_data = fac_suppliers_data.merge(naics, on=\"2017 NAICS Code\")\n",
        "\n",
        "# Display emitters and suppliers data\n",
        "display(HTML(\"<h2>Top 10 Direct Emitters:</h2>\"))\n",
        "display(fac_directemitters_data.nlargest(10,\"Emissions (tCO2e)\").style.format({\"Emissions (tCO2e)\": '{:,.0f}'}))\n",
        "display(HTML(\"<h2>Top 10 Supplier Facilities:</h2>\"))\n",
        "display(fac_suppliers_data.nlargest(10,\"Emissions (tCO2e)\").style.format({\"Emissions (tCO2e)\": '{:,.0f}'}))\n",
        "\n"
      ],
      "execution_count": 83,
      "outputs": [
        {
          "output_type": "display_data",
          "data": {
            "text/html": [
              "<h2>Top 10 Direct Emitters:</h2>"
            ],
            "text/plain": [
              "<IPython.core.display.HTML object>"
            ]
          },
          "metadata": {}
        },
        {
          "output_type": "display_data",
          "data": {
            "text/html": [
              "<style  type=\"text/css\" >\n",
              "</style><table id=\"T_7f48eb26_5e0c_11ec_8924_0242ac1c0002\" class=\"dataframe\"><thead>    <tr>        <th class=\"blank level0\" ></th>        <th class=\"col_heading level0 col0\" >Facility</th>        <th class=\"col_heading level0 col1\" >Name</th>        <th class=\"col_heading level0 col2\" >2017 NAICS Code</th>        <th class=\"col_heading level0 col3\" >Emissions (tCO2e)</th>        <th class=\"col_heading level0 col4\" >2017 NAICS Title</th>    </tr></thead><tbody>\n",
              "                <tr>\n",
              "                        <th id=\"T_7f48eb26_5e0c_11ec_8924_0242ac1c0002level0_row0\" class=\"row_heading level0 row0\" >1020</th>\n",
              "                        <td id=\"T_7f48eb26_5e0c_11ec_8924_0242ac1c0002row0_col0\" class=\"data row0 col0\" >1007227</td>\n",
              "                        <td id=\"T_7f48eb26_5e0c_11ec_8924_0242ac1c0002row0_col1\" class=\"data row0 col1\" >James H Miller Jr</td>\n",
              "                        <td id=\"T_7f48eb26_5e0c_11ec_8924_0242ac1c0002row0_col2\" class=\"data row0 col2\" >221112</td>\n",
              "                        <td id=\"T_7f48eb26_5e0c_11ec_8924_0242ac1c0002row0_col3\" class=\"data row0 col3\" >17,232,898</td>\n",
              "                        <td id=\"T_7f48eb26_5e0c_11ec_8924_0242ac1c0002row0_col4\" class=\"data row0 col4\" >Fossil Fuel Electric Power Generation </td>\n",
              "            </tr>\n",
              "            <tr>\n",
              "                        <th id=\"T_7f48eb26_5e0c_11ec_8924_0242ac1c0002level0_row1\" class=\"row_heading level0 row1\" >77</th>\n",
              "                        <td id=\"T_7f48eb26_5e0c_11ec_8924_0242ac1c0002row1_col0\" class=\"data row1 col0\" >1000192</td>\n",
              "                        <td id=\"T_7f48eb26_5e0c_11ec_8924_0242ac1c0002row1_col1\" class=\"data row1 col1\" >Labadie</td>\n",
              "                        <td id=\"T_7f48eb26_5e0c_11ec_8924_0242ac1c0002row1_col2\" class=\"data row1 col2\" >221112</td>\n",
              "                        <td id=\"T_7f48eb26_5e0c_11ec_8924_0242ac1c0002row1_col3\" class=\"data row1 col3\" >15,710,653</td>\n",
              "                        <td id=\"T_7f48eb26_5e0c_11ec_8924_0242ac1c0002row1_col4\" class=\"data row1 col4\" >Fossil Fuel Electric Power Generation </td>\n",
              "            </tr>\n",
              "            <tr>\n",
              "                        <th id=\"T_7f48eb26_5e0c_11ec_8924_0242ac1c0002level0_row2\" class=\"row_heading level0 row2\" >531</th>\n",
              "                        <td id=\"T_7f48eb26_5e0c_11ec_8924_0242ac1c0002row2_col0\" class=\"data row2 col0\" >1001194</td>\n",
              "                        <td id=\"T_7f48eb26_5e0c_11ec_8924_0242ac1c0002row2_col1\" class=\"data row2 col1\" >Gen J M Gavin</td>\n",
              "                        <td id=\"T_7f48eb26_5e0c_11ec_8924_0242ac1c0002row2_col2\" class=\"data row2 col2\" >221112</td>\n",
              "                        <td id=\"T_7f48eb26_5e0c_11ec_8924_0242ac1c0002row2_col3\" class=\"data row2 col3\" >13,788,223</td>\n",
              "                        <td id=\"T_7f48eb26_5e0c_11ec_8924_0242ac1c0002row2_col4\" class=\"data row2 col4\" >Fossil Fuel Electric Power Generation </td>\n",
              "            </tr>\n",
              "            <tr>\n",
              "                        <th id=\"T_7f48eb26_5e0c_11ec_8924_0242ac1c0002level0_row3\" class=\"row_heading level0 row3\" >1080</th>\n",
              "                        <td id=\"T_7f48eb26_5e0c_11ec_8924_0242ac1c0002row3_col0\" class=\"data row3 col0\" >1007504</td>\n",
              "                        <td id=\"T_7f48eb26_5e0c_11ec_8924_0242ac1c0002row3_col1\" class=\"data row3 col1\" >Martin Lake</td>\n",
              "                        <td id=\"T_7f48eb26_5e0c_11ec_8924_0242ac1c0002row3_col2\" class=\"data row3 col2\" >221112</td>\n",
              "                        <td id=\"T_7f48eb26_5e0c_11ec_8924_0242ac1c0002row3_col3\" class=\"data row3 col3\" >13,518,397</td>\n",
              "                        <td id=\"T_7f48eb26_5e0c_11ec_8924_0242ac1c0002row3_col4\" class=\"data row3 col4\" >Fossil Fuel Electric Power Generation </td>\n",
              "            </tr>\n",
              "            <tr>\n",
              "                        <th id=\"T_7f48eb26_5e0c_11ec_8924_0242ac1c0002level0_row4\" class=\"row_heading level0 row4\" >1081</th>\n",
              "                        <td id=\"T_7f48eb26_5e0c_11ec_8924_0242ac1c0002row4_col0\" class=\"data row4 col0\" >1007505</td>\n",
              "                        <td id=\"T_7f48eb26_5e0c_11ec_8924_0242ac1c0002row4_col1\" class=\"data row4 col1\" >Oak Grove</td>\n",
              "                        <td id=\"T_7f48eb26_5e0c_11ec_8924_0242ac1c0002row4_col2\" class=\"data row4 col2\" >221112</td>\n",
              "                        <td id=\"T_7f48eb26_5e0c_11ec_8924_0242ac1c0002row4_col3\" class=\"data row4 col3\" >13,103,472</td>\n",
              "                        <td id=\"T_7f48eb26_5e0c_11ec_8924_0242ac1c0002row4_col4\" class=\"data row4 col4\" >Fossil Fuel Electric Power Generation </td>\n",
              "            </tr>\n",
              "            <tr>\n",
              "                        <th id=\"T_7f48eb26_5e0c_11ec_8924_0242ac1c0002level0_row5\" class=\"row_heading level0 row5\" >238</th>\n",
              "                        <td id=\"T_7f48eb26_5e0c_11ec_8924_0242ac1c0002row5_col0\" class=\"data row5 col0\" >1000676</td>\n",
              "                        <td id=\"T_7f48eb26_5e0c_11ec_8924_0242ac1c0002row5_col1\" class=\"data row5 col1\" >Monroe</td>\n",
              "                        <td id=\"T_7f48eb26_5e0c_11ec_8924_0242ac1c0002row5_col2\" class=\"data row5 col2\" >221112</td>\n",
              "                        <td id=\"T_7f48eb26_5e0c_11ec_8924_0242ac1c0002row5_col3\" class=\"data row5 col3\" >13,059,155</td>\n",
              "                        <td id=\"T_7f48eb26_5e0c_11ec_8924_0242ac1c0002row5_col4\" class=\"data row5 col4\" >Fossil Fuel Electric Power Generation </td>\n",
              "            </tr>\n",
              "            <tr>\n",
              "                        <th id=\"T_7f48eb26_5e0c_11ec_8924_0242ac1c0002level0_row6\" class=\"row_heading level0 row6\" >805</th>\n",
              "                        <td id=\"T_7f48eb26_5e0c_11ec_8924_0242ac1c0002row6_col0\" class=\"data row6 col0\" >1001887</td>\n",
              "                        <td id=\"T_7f48eb26_5e0c_11ec_8924_0242ac1c0002row6_col1\" class=\"data row6 col1\" >PRAIRIE STATE GENERATING STATION</td>\n",
              "                        <td id=\"T_7f48eb26_5e0c_11ec_8924_0242ac1c0002row6_col2\" class=\"data row6 col2\" >221112</td>\n",
              "                        <td id=\"T_7f48eb26_5e0c_11ec_8924_0242ac1c0002row6_col3\" class=\"data row6 col3\" >11,950,052</td>\n",
              "                        <td id=\"T_7f48eb26_5e0c_11ec_8924_0242ac1c0002row6_col4\" class=\"data row6 col4\" >Fossil Fuel Electric Power Generation </td>\n",
              "            </tr>\n",
              "            <tr>\n",
              "                        <th id=\"T_7f48eb26_5e0c_11ec_8924_0242ac1c0002level0_row7\" class=\"row_heading level0 row7\" >427</th>\n",
              "                        <td id=\"T_7f48eb26_5e0c_11ec_8924_0242ac1c0002row7_col0\" class=\"data row7 col0\" >1001030</td>\n",
              "                        <td id=\"T_7f48eb26_5e0c_11ec_8924_0242ac1c0002row7_col1\" class=\"data row7 col1\" >Gibson</td>\n",
              "                        <td id=\"T_7f48eb26_5e0c_11ec_8924_0242ac1c0002row7_col2\" class=\"data row7 col2\" >221112</td>\n",
              "                        <td id=\"T_7f48eb26_5e0c_11ec_8924_0242ac1c0002row7_col3\" class=\"data row7 col3\" >11,391,066</td>\n",
              "                        <td id=\"T_7f48eb26_5e0c_11ec_8924_0242ac1c0002row7_col4\" class=\"data row7 col4\" >Fossil Fuel Electric Power Generation </td>\n",
              "            </tr>\n",
              "            <tr>\n",
              "                        <th id=\"T_7f48eb26_5e0c_11ec_8924_0242ac1c0002level0_row8\" class=\"row_heading level0 row8\" >2765</th>\n",
              "                        <td id=\"T_7f48eb26_5e0c_11ec_8924_0242ac1c0002row8_col0\" class=\"data row8 col0\" >1007542</td>\n",
              "                        <td id=\"T_7f48eb26_5e0c_11ec_8924_0242ac1c0002row8_col1\" class=\"data row8 col1\" >EXXONMOBIL Bt Site</td>\n",
              "                        <td id=\"T_7f48eb26_5e0c_11ec_8924_0242ac1c0002row8_col2\" class=\"data row8 col2\" >324110</td>\n",
              "                        <td id=\"T_7f48eb26_5e0c_11ec_8924_0242ac1c0002row8_col3\" class=\"data row8 col3\" >11,229,747</td>\n",
              "                        <td id=\"T_7f48eb26_5e0c_11ec_8924_0242ac1c0002row8_col4\" class=\"data row8 col4\" >Petroleum Refineries</td>\n",
              "            </tr>\n",
              "            <tr>\n",
              "                        <th id=\"T_7f48eb26_5e0c_11ec_8924_0242ac1c0002level0_row9\" class=\"row_heading level0 row9\" >529</th>\n",
              "                        <td id=\"T_7f48eb26_5e0c_11ec_8924_0242ac1c0002row9_col0\" class=\"data row9 col0\" >1001192</td>\n",
              "                        <td id=\"T_7f48eb26_5e0c_11ec_8924_0242ac1c0002row9_col1\" class=\"data row9 col1\" >Jim Bridger</td>\n",
              "                        <td id=\"T_7f48eb26_5e0c_11ec_8924_0242ac1c0002row9_col2\" class=\"data row9 col2\" >221112</td>\n",
              "                        <td id=\"T_7f48eb26_5e0c_11ec_8924_0242ac1c0002row9_col3\" class=\"data row9 col3\" >11,225,008</td>\n",
              "                        <td id=\"T_7f48eb26_5e0c_11ec_8924_0242ac1c0002row9_col4\" class=\"data row9 col4\" >Fossil Fuel Electric Power Generation </td>\n",
              "            </tr>\n",
              "    </tbody></table>"
            ],
            "text/plain": [
              "<pandas.io.formats.style.Styler at 0x7f530c506450>"
            ]
          },
          "metadata": {}
        },
        {
          "output_type": "display_data",
          "data": {
            "text/html": [
              "<h2>Top 10 Supplier Facilities:</h2>"
            ],
            "text/plain": [
              "<IPython.core.display.HTML object>"
            ]
          },
          "metadata": {}
        },
        {
          "output_type": "display_data",
          "data": {
            "text/html": [
              "<style  type=\"text/css\" >\n",
              "</style><table id=\"T_7f4be286_5e0c_11ec_8924_0242ac1c0002\" class=\"dataframe\"><thead>    <tr>        <th class=\"blank level0\" ></th>        <th class=\"col_heading level0 col0\" >Facility</th>        <th class=\"col_heading level0 col1\" >Name</th>        <th class=\"col_heading level0 col2\" >2017 NAICS Code</th>        <th class=\"col_heading level0 col3\" >Emissions (tCO2e)</th>        <th class=\"col_heading level0 col4\" >2017 NAICS Title</th>    </tr></thead><tbody>\n",
              "                <tr>\n",
              "                        <th id=\"T_7f4be286_5e0c_11ec_8924_0242ac1c0002level0_row0\" class=\"row_heading level0 row0\" >330</th>\n",
              "                        <td id=\"T_7f4be286_5e0c_11ec_8924_0242ac1c0002row0_col0\" class=\"data row0 col0\" >1007458</td>\n",
              "                        <td id=\"T_7f4be286_5e0c_11ec_8924_0242ac1c0002row0_col1\" class=\"data row0 col1\" >MOTIVA ENTERPRISES LLC</td>\n",
              "                        <td id=\"T_7f4be286_5e0c_11ec_8924_0242ac1c0002row0_col2\" class=\"data row0 col2\" >324110</td>\n",
              "                        <td id=\"T_7f4be286_5e0c_11ec_8924_0242ac1c0002row0_col3\" class=\"data row0 col3\" >84,684,302</td>\n",
              "                        <td id=\"T_7f4be286_5e0c_11ec_8924_0242ac1c0002row0_col4\" class=\"data row0 col4\" >Petroleum Refineries</td>\n",
              "            </tr>\n",
              "            <tr>\n",
              "                        <th id=\"T_7f4be286_5e0c_11ec_8924_0242ac1c0002level0_row1\" class=\"row_heading level0 row1\" >306</th>\n",
              "                        <td id=\"T_7f4be286_5e0c_11ec_8924_0242ac1c0002row1_col0\" class=\"data row1 col0\" >1003043</td>\n",
              "                        <td id=\"T_7f4be286_5e0c_11ec_8924_0242ac1c0002row1_col1\" class=\"data row1 col1\" >Garyville Refinery</td>\n",
              "                        <td id=\"T_7f4be286_5e0c_11ec_8924_0242ac1c0002row1_col2\" class=\"data row1 col2\" >324110</td>\n",
              "                        <td id=\"T_7f4be286_5e0c_11ec_8924_0242ac1c0002row1_col3\" class=\"data row1 col3\" >84,389,430</td>\n",
              "                        <td id=\"T_7f4be286_5e0c_11ec_8924_0242ac1c0002row1_col4\" class=\"data row1 col4\" >Petroleum Refineries</td>\n",
              "            </tr>\n",
              "            <tr>\n",
              "                        <th id=\"T_7f4be286_5e0c_11ec_8924_0242ac1c0002level0_row2\" class=\"row_heading level0 row2\" >293</th>\n",
              "                        <td id=\"T_7f4be286_5e0c_11ec_8924_0242ac1c0002row2_col0\" class=\"data row2 col0\" >1007542</td>\n",
              "                        <td id=\"T_7f4be286_5e0c_11ec_8924_0242ac1c0002row2_col1\" class=\"data row2 col1\" >EXXONMOBIL Bt Site</td>\n",
              "                        <td id=\"T_7f4be286_5e0c_11ec_8924_0242ac1c0002row2_col2\" class=\"data row2 col2\" >324110</td>\n",
              "                        <td id=\"T_7f4be286_5e0c_11ec_8924_0242ac1c0002row2_col3\" class=\"data row2 col3\" >76,148,788</td>\n",
              "                        <td id=\"T_7f4be286_5e0c_11ec_8924_0242ac1c0002row2_col4\" class=\"data row2 col4\" >Petroleum Refineries</td>\n",
              "            </tr>\n",
              "            <tr>\n",
              "                        <th id=\"T_7f4be286_5e0c_11ec_8924_0242ac1c0002level0_row3\" class=\"row_heading level0 row3\" >292</th>\n",
              "                        <td id=\"T_7f4be286_5e0c_11ec_8924_0242ac1c0002row3_col0\" class=\"data row3 col0\" >1007643</td>\n",
              "                        <td id=\"T_7f4be286_5e0c_11ec_8924_0242ac1c0002row3_col1\" class=\"data row3 col1\" >EXXONMOBIL BATON ROUGE REFINERY AND CHEMICAL PLANT</td>\n",
              "                        <td id=\"T_7f4be286_5e0c_11ec_8924_0242ac1c0002row3_col2\" class=\"data row3 col2\" >324110</td>\n",
              "                        <td id=\"T_7f4be286_5e0c_11ec_8924_0242ac1c0002row3_col3\" class=\"data row3 col3\" >69,760,075</td>\n",
              "                        <td id=\"T_7f4be286_5e0c_11ec_8924_0242ac1c0002row3_col4\" class=\"data row3 col4\" >Petroleum Refineries</td>\n",
              "            </tr>\n",
              "            <tr>\n",
              "                        <th id=\"T_7f4be286_5e0c_11ec_8924_0242ac1c0002level0_row4\" class=\"row_heading level0 row4\" >924</th>\n",
              "                        <td id=\"T_7f4be286_5e0c_11ec_8924_0242ac1c0002row4_col0\" class=\"data row4 col0\" >1010448</td>\n",
              "                        <td id=\"T_7f4be286_5e0c_11ec_8924_0242ac1c0002row4_col1\" class=\"data row4 col1\" >Enterprise Products Operating LLC</td>\n",
              "                        <td id=\"T_7f4be286_5e0c_11ec_8924_0242ac1c0002row4_col2\" class=\"data row4 col2\" >488320</td>\n",
              "                        <td id=\"T_7f4be286_5e0c_11ec_8924_0242ac1c0002row4_col3\" class=\"data row4 col3\" >66,679,801</td>\n",
              "                        <td id=\"T_7f4be286_5e0c_11ec_8924_0242ac1c0002row4_col4\" class=\"data row4 col4\" >Marine Cargo Handling</td>\n",
              "            </tr>\n",
              "            <tr>\n",
              "                        <th id=\"T_7f4be286_5e0c_11ec_8924_0242ac1c0002level0_row5\" class=\"row_heading level0 row5\" >305</th>\n",
              "                        <td id=\"T_7f4be286_5e0c_11ec_8924_0242ac1c0002row5_col0\" class=\"data row5 col0\" >1005585</td>\n",
              "                        <td id=\"T_7f4be286_5e0c_11ec_8924_0242ac1c0002row5_col1\" class=\"data row5 col1\" >Galveston Bay Refinery</td>\n",
              "                        <td id=\"T_7f4be286_5e0c_11ec_8924_0242ac1c0002row5_col2\" class=\"data row5 col2\" >324110</td>\n",
              "                        <td id=\"T_7f4be286_5e0c_11ec_8924_0242ac1c0002row5_col3\" class=\"data row5 col3\" >66,235,711</td>\n",
              "                        <td id=\"T_7f4be286_5e0c_11ec_8924_0242ac1c0002row5_col4\" class=\"data row5 col4\" >Petroleum Refineries</td>\n",
              "            </tr>\n",
              "            <tr>\n",
              "                        <th id=\"T_7f4be286_5e0c_11ec_8924_0242ac1c0002level0_row6\" class=\"row_heading level0 row6\" >460</th>\n",
              "                        <td id=\"T_7f4be286_5e0c_11ec_8924_0242ac1c0002row6_col0\" class=\"data row6 col0\" >1010568</td>\n",
              "                        <td id=\"T_7f4be286_5e0c_11ec_8924_0242ac1c0002row6_col1\" class=\"data row6 col1\" >Valero Marketing and Supply Company</td>\n",
              "                        <td id=\"T_7f4be286_5e0c_11ec_8924_0242ac1c0002row6_col2\" class=\"data row6 col2\" >424720</td>\n",
              "                        <td id=\"T_7f4be286_5e0c_11ec_8924_0242ac1c0002row6_col3\" class=\"data row6 col3\" >61,214,779</td>\n",
              "                        <td id=\"T_7f4be286_5e0c_11ec_8924_0242ac1c0002row6_col4\" class=\"data row6 col4\" >Petroleum and Petroleum Products Merchant Wholesalers (except Bulk Stations and Terminals) </td>\n",
              "            </tr>\n",
              "            <tr>\n",
              "                        <th id=\"T_7f4be286_5e0c_11ec_8924_0242ac1c0002level0_row7\" class=\"row_heading level0 row7\" >259</th>\n",
              "                        <td id=\"T_7f4be286_5e0c_11ec_8924_0242ac1c0002row7_col0\" class=\"data row7 col0\" >1007339</td>\n",
              "                        <td id=\"T_7f4be286_5e0c_11ec_8924_0242ac1c0002row7_col1\" class=\"data row7 col1\" >BP Whiting Business Unit</td>\n",
              "                        <td id=\"T_7f4be286_5e0c_11ec_8924_0242ac1c0002row7_col2\" class=\"data row7 col2\" >324110</td>\n",
              "                        <td id=\"T_7f4be286_5e0c_11ec_8924_0242ac1c0002row7_col3\" class=\"data row7 col3\" >57,236,188</td>\n",
              "                        <td id=\"T_7f4be286_5e0c_11ec_8924_0242ac1c0002row7_col4\" class=\"data row7 col4\" >Petroleum Refineries</td>\n",
              "            </tr>\n",
              "            <tr>\n",
              "                        <th id=\"T_7f4be286_5e0c_11ec_8924_0242ac1c0002level0_row8\" class=\"row_heading level0 row8\" >238</th>\n",
              "                        <td id=\"T_7f4be286_5e0c_11ec_8924_0242ac1c0002row8_col0\" class=\"data row8 col0\" >1004614</td>\n",
              "                        <td id=\"T_7f4be286_5e0c_11ec_8924_0242ac1c0002row8_col1\" class=\"data row8 col1\" >Targa Midstream Services, LLC - Mont Belvieu Complex</td>\n",
              "                        <td id=\"T_7f4be286_5e0c_11ec_8924_0242ac1c0002row8_col2\" class=\"data row8 col2\" >211130</td>\n",
              "                        <td id=\"T_7f4be286_5e0c_11ec_8924_0242ac1c0002row8_col3\" class=\"data row8 col3\" >48,876,668</td>\n",
              "                        <td id=\"T_7f4be286_5e0c_11ec_8924_0242ac1c0002row8_col4\" class=\"data row8 col4\" >Natural Gas Extraction </td>\n",
              "            </tr>\n",
              "            <tr>\n",
              "                        <th id=\"T_7f4be286_5e0c_11ec_8924_0242ac1c0002level0_row9\" class=\"row_heading level0 row9\" >848</th>\n",
              "                        <td id=\"T_7f4be286_5e0c_11ec_8924_0242ac1c0002row9_col0\" class=\"data row9 col0\" >1010460</td>\n",
              "                        <td id=\"T_7f4be286_5e0c_11ec_8924_0242ac1c0002row9_col1\" class=\"data row9 col1\" >Trafigura Trading LLC</td>\n",
              "                        <td id=\"T_7f4be286_5e0c_11ec_8924_0242ac1c0002row9_col2\" class=\"data row9 col2\" >425120</td>\n",
              "                        <td id=\"T_7f4be286_5e0c_11ec_8924_0242ac1c0002row9_col3\" class=\"data row9 col3\" >48,701,114</td>\n",
              "                        <td id=\"T_7f4be286_5e0c_11ec_8924_0242ac1c0002row9_col4\" class=\"data row9 col4\" >Wholesale Trade Agents and Brokers </td>\n",
              "            </tr>\n",
              "    </tbody></table>"
            ],
            "text/plain": [
              "<pandas.io.formats.style.Styler at 0x7f530c297a10>"
            ]
          },
          "metadata": {}
        }
      ]
    },
    {
      "cell_type": "markdown",
      "metadata": {
        "id": "rf-LNaAb8Q5x"
      },
      "source": [
        "Export this processed data, if you like (optional), by running the cell below.\n"
      ]
    },
    {
      "cell_type": "code",
      "metadata": {
        "colab": {
          "base_uri": "https://localhost:8080/"
        },
        "id": "LQHUStJo8TkK",
        "outputId": "c784686a-cae4-4c83-e9b5-11ff4d3ab746"
      },
      "source": [
        "if ( fac_directemitters_data is not None):\n",
        "  fac_directemitters_data.to_csv( 'ghgdata_directemitters.csv' )\n",
        "if ( fac_suppliers_data is not None):\n",
        "  fac_suppliers_data.to_csv( 'ghgdata_suppliers.csv' )\n",
        "print(\"Exported! Check the 'Files' folder in Colab to download it.\")"
      ],
      "execution_count": 84,
      "outputs": [
        {
          "output_type": "stream",
          "name": "stdout",
          "text": [
            "Exported! Check the 'Files' folder in Colab to download it.\n"
          ]
        }
      ]
    },
    {
      "cell_type": "markdown",
      "metadata": {
        "id": "hC7Sb5Kj83IE"
      },
      "source": [
        "# Add parent company data\n",
        "\n",
        "Now we'll get EPA's information on who owns these facilities."
      ]
    },
    {
      "cell_type": "code",
      "metadata": {
        "colab": {
          "base_uri": "https://localhost:8080/",
          "height": 982
        },
        "id": "U4lGtCX784-I",
        "outputId": "4076ca3c-000f-4908-b10c-312701409675"
      },
      "source": [
        "# First we get some additional information from the EPA on parent companies\n",
        "url = \"https://www.epa.gov/system/files/other-files/2021-10/ghgp_data_parent_company_10_2021.xlsb\"\n",
        "parents = pd.read_excel(url, engine='pyxlsb', sheet_name=\"2020\", nrows=9144) # 9144 non-header rows in this file as of Nov 2021.\n",
        "parents[\"PARENT COMPANY NAME\"] = parents[\"PARENT COMPANY NAME\"].str.upper() # Standardize company names to uppercase - sometimes EPA allows company names to be reported in upper and lower case, which intereferes with our ability to aggregate them\n",
        "parents"
      ],
      "execution_count": 85,
      "outputs": [
        {
          "output_type": "execute_result",
          "data": {
            "text/html": [
              "<div>\n",
              "<style scoped>\n",
              "    .dataframe tbody tr th:only-of-type {\n",
              "        vertical-align: middle;\n",
              "    }\n",
              "\n",
              "    .dataframe tbody tr th {\n",
              "        vertical-align: top;\n",
              "    }\n",
              "\n",
              "    .dataframe thead th {\n",
              "        text-align: right;\n",
              "    }\n",
              "</style>\n",
              "<table border=\"1\" class=\"dataframe\">\n",
              "  <thead>\n",
              "    <tr style=\"text-align: right;\">\n",
              "      <th></th>\n",
              "      <th>GHGRP FACILITY ID</th>\n",
              "      <th>FRS ID (FACILITY)</th>\n",
              "      <th>REPORTING YEAR</th>\n",
              "      <th>FACILITY NAME</th>\n",
              "      <th>FACILITY ADDRESS</th>\n",
              "      <th>FACILITY CITY</th>\n",
              "      <th>FACILITY STATE</th>\n",
              "      <th>FACILITY ZIP</th>\n",
              "      <th>FACILITY COUNTY</th>\n",
              "      <th>PARENT COMPANY NAME</th>\n",
              "      <th>PARENT CO. STREET ADDRESS</th>\n",
              "      <th>PARENT CO. CITY</th>\n",
              "      <th>PARENT CO. STATE</th>\n",
              "      <th>PARENT CO. ZIP</th>\n",
              "      <th>PARENT CO. PERCENT OWNERSHIP</th>\n",
              "      <th>FACILITY NAICS CODE</th>\n",
              "    </tr>\n",
              "  </thead>\n",
              "  <tbody>\n",
              "    <tr>\n",
              "      <th>0</th>\n",
              "      <td>1000001</td>\n",
              "      <td>1.100005e+11</td>\n",
              "      <td>2020</td>\n",
              "      <td>PSE Ferndale Generating Station</td>\n",
              "      <td>5105 LAKE TERRELL ROAD</td>\n",
              "      <td>FERNDALE</td>\n",
              "      <td>WA</td>\n",
              "      <td>98248</td>\n",
              "      <td>WHATCOM COUNTY</td>\n",
              "      <td>PUGET HOLDINGS LLC</td>\n",
              "      <td>PO Box 97034</td>\n",
              "      <td>Bellevue</td>\n",
              "      <td>WA</td>\n",
              "      <td>98009</td>\n",
              "      <td>100.0</td>\n",
              "      <td>221112</td>\n",
              "    </tr>\n",
              "    <tr>\n",
              "      <th>1</th>\n",
              "      <td>1000002</td>\n",
              "      <td>1.100412e+11</td>\n",
              "      <td>2020</td>\n",
              "      <td>Ardagh Glass Inc. (Dunkirk)</td>\n",
              "      <td>524 E. CENTER STREET</td>\n",
              "      <td>DUNKIRK</td>\n",
              "      <td>IN</td>\n",
              "      <td>47336</td>\n",
              "      <td>JAY COUNTY</td>\n",
              "      <td>ARDAGH GLASS INC</td>\n",
              "      <td>1209 Orange Street</td>\n",
              "      <td>Wilmington</td>\n",
              "      <td>DE</td>\n",
              "      <td>19801</td>\n",
              "      <td>100.0</td>\n",
              "      <td>327213</td>\n",
              "    </tr>\n",
              "    <tr>\n",
              "      <th>2</th>\n",
              "      <td>1000003</td>\n",
              "      <td>1.100015e+11</td>\n",
              "      <td>2020</td>\n",
              "      <td>Ardagh Glass Inc. (Henderson)</td>\n",
              "      <td>620 Facet Road</td>\n",
              "      <td>Henderson</td>\n",
              "      <td>NC</td>\n",
              "      <td>27537</td>\n",
              "      <td>VANCE COUNTY</td>\n",
              "      <td>ARDAGH GLASS INC</td>\n",
              "      <td>1209 Orange Street</td>\n",
              "      <td>Wilmington</td>\n",
              "      <td>DE</td>\n",
              "      <td>19801</td>\n",
              "      <td>100.0</td>\n",
              "      <td>327213</td>\n",
              "    </tr>\n",
              "    <tr>\n",
              "      <th>3</th>\n",
              "      <td>1000005</td>\n",
              "      <td>1.100005e+11</td>\n",
              "      <td>2020</td>\n",
              "      <td>Ardagh Glass Inc. (Madera)</td>\n",
              "      <td>24441 AVENUE 12 &amp; ROAD 24 1/2</td>\n",
              "      <td>MADERA</td>\n",
              "      <td>CA</td>\n",
              "      <td>93637</td>\n",
              "      <td>MADERA COUNTY</td>\n",
              "      <td>ARDAGH GLASS INC</td>\n",
              "      <td>1209 Orange Street</td>\n",
              "      <td>Wilmington</td>\n",
              "      <td>DE</td>\n",
              "      <td>19801</td>\n",
              "      <td>100.0</td>\n",
              "      <td>327213</td>\n",
              "    </tr>\n",
              "    <tr>\n",
              "      <th>4</th>\n",
              "      <td>1000007</td>\n",
              "      <td>1.100070e+11</td>\n",
              "      <td>2020</td>\n",
              "      <td>AMERICAN GYPSUM - BERNALILLO (WALLBOARD) PLANT</td>\n",
              "      <td>1000 N HILL RD</td>\n",
              "      <td>BERNALILLO</td>\n",
              "      <td>NM</td>\n",
              "      <td>87004</td>\n",
              "      <td>SANDOVAL COUNTY</td>\n",
              "      <td>EAGLE MATERIALS INC</td>\n",
              "      <td>5960 Berkshire Lane Suite 800</td>\n",
              "      <td>Dallas</td>\n",
              "      <td>TX</td>\n",
              "      <td>75225</td>\n",
              "      <td>100.0</td>\n",
              "      <td>327420</td>\n",
              "    </tr>\n",
              "    <tr>\n",
              "      <th>...</th>\n",
              "      <td>...</td>\n",
              "      <td>...</td>\n",
              "      <td>...</td>\n",
              "      <td>...</td>\n",
              "      <td>...</td>\n",
              "      <td>...</td>\n",
              "      <td>...</td>\n",
              "      <td>...</td>\n",
              "      <td>...</td>\n",
              "      <td>...</td>\n",
              "      <td>...</td>\n",
              "      <td>...</td>\n",
              "      <td>...</td>\n",
              "      <td>...</td>\n",
              "      <td>...</td>\n",
              "      <td>...</td>\n",
              "    </tr>\n",
              "    <tr>\n",
              "      <th>9139</th>\n",
              "      <td>1014033</td>\n",
              "      <td>NaN</td>\n",
              "      <td>2020</td>\n",
              "      <td>AW PRODUCT SALES AND MARKETING INC</td>\n",
              "      <td>204 E. 2nd Avenue, Unit #343</td>\n",
              "      <td>San Mateo</td>\n",
              "      <td>CA</td>\n",
              "      <td>94401</td>\n",
              "      <td>NaN</td>\n",
              "      <td>AW DISTRIBUTING INC</td>\n",
              "      <td>204 E. 2nd Avenue, Unit #343</td>\n",
              "      <td>San Mateo</td>\n",
              "      <td>CA</td>\n",
              "      <td>94401</td>\n",
              "      <td>100.0</td>\n",
              "      <td>522293</td>\n",
              "    </tr>\n",
              "    <tr>\n",
              "      <th>9140</th>\n",
              "      <td>1014041</td>\n",
              "      <td>NaN</td>\n",
              "      <td>2020</td>\n",
              "      <td>Bluon, Inc.</td>\n",
              "      <td>18 Bunsen</td>\n",
              "      <td>Irvine</td>\n",
              "      <td>CA</td>\n",
              "      <td>92618</td>\n",
              "      <td>NaN</td>\n",
              "      <td>BLUON INC</td>\n",
              "      <td>18 Bunsen</td>\n",
              "      <td>Irvine</td>\n",
              "      <td>CA</td>\n",
              "      <td>92618</td>\n",
              "      <td>100.0</td>\n",
              "      <td>424690</td>\n",
              "    </tr>\n",
              "    <tr>\n",
              "      <th>9141</th>\n",
              "      <td>1014043</td>\n",
              "      <td>NaN</td>\n",
              "      <td>2020</td>\n",
              "      <td>RAMJ Enterprises Inc</td>\n",
              "      <td>4912 W KNOX ST STE 100</td>\n",
              "      <td>Tampa</td>\n",
              "      <td>FL</td>\n",
              "      <td>33634</td>\n",
              "      <td>NaN</td>\n",
              "      <td>RAMJ ENTERPRISES INC</td>\n",
              "      <td>4912 W KNOX ST</td>\n",
              "      <td>Tampa</td>\n",
              "      <td>FL</td>\n",
              "      <td>33634</td>\n",
              "      <td>100.0</td>\n",
              "      <td>425120</td>\n",
              "    </tr>\n",
              "    <tr>\n",
              "      <th>9142</th>\n",
              "      <td>1014044</td>\n",
              "      <td>1.100626e+11</td>\n",
              "      <td>2020</td>\n",
              "      <td>Wilhelmsen Ships Service Inc</td>\n",
              "      <td>9400 New Century Dr</td>\n",
              "      <td>Pasadena</td>\n",
              "      <td>TX</td>\n",
              "      <td>77507</td>\n",
              "      <td>HARRIS COUNTY</td>\n",
              "      <td>WILHELMSEN SHIPS SERVICE</td>\n",
              "      <td>9400 New Century Dr.</td>\n",
              "      <td>Pasadena</td>\n",
              "      <td>TX</td>\n",
              "      <td>77507</td>\n",
              "      <td>100.0</td>\n",
              "      <td>484220</td>\n",
              "    </tr>\n",
              "    <tr>\n",
              "      <th>9143</th>\n",
              "      <td>1014063</td>\n",
              "      <td>NaN</td>\n",
              "      <td>2020</td>\n",
              "      <td>Transocean Offshore Deepwater Drilling Inc.</td>\n",
              "      <td>1414 Enclave Parkway</td>\n",
              "      <td>Houston</td>\n",
              "      <td>TX</td>\n",
              "      <td>77077</td>\n",
              "      <td>NaN</td>\n",
              "      <td>TRANSOCEAN OFFSHORE DEEPWATER DRILLING INC</td>\n",
              "      <td>1414 Enclave Pwky</td>\n",
              "      <td>Houston</td>\n",
              "      <td>TX</td>\n",
              "      <td>77077</td>\n",
              "      <td>100.0</td>\n",
              "      <td>213111</td>\n",
              "    </tr>\n",
              "  </tbody>\n",
              "</table>\n",
              "<p>9144 rows × 16 columns</p>\n",
              "</div>"
            ],
            "text/plain": [
              "      GHGRP FACILITY ID  ...  FACILITY NAICS CODE\n",
              "0               1000001  ...               221112\n",
              "1               1000002  ...               327213\n",
              "2               1000003  ...               327213\n",
              "3               1000005  ...               327213\n",
              "4               1000007  ...               327420\n",
              "...                 ...  ...                  ...\n",
              "9139            1014033  ...               522293\n",
              "9140            1014041  ...               424690\n",
              "9141            1014043  ...               425120\n",
              "9142            1014044  ...               484220\n",
              "9143            1014063  ...               213111\n",
              "\n",
              "[9144 rows x 16 columns]"
            ]
          },
          "metadata": {},
          "execution_count": 85
        }
      ]
    },
    {
      "cell_type": "markdown",
      "metadata": {
        "id": "7OdXLr389aAd"
      },
      "source": [
        "# Pair parents with facilities"
      ]
    },
    {
      "cell_type": "code",
      "metadata": {
        "colab": {
          "base_uri": "https://localhost:8080/",
          "height": 1000
        },
        "id": "VeV80B1j9ZfU",
        "outputId": "e16dee88-f5a5-43d7-a8b9-f4d29db5f355"
      },
      "source": [
        "# Join tables between Facility and GHGRP FACILITY ID\n",
        "# Basically we are saying, for each facility, and for each parent/stake, what emissions?\n",
        "# First we'll join in all emissions, then later we'll account for specific percent ownership and reduce emissions according to these stakes.\n",
        "join_emitters = fac_directemitters_data.set_index(\"Facility\").join(parents.set_index('GHGRP FACILITY ID'))\n",
        "join_suppliers = fac_suppliers_data.set_index(\"Facility\").join(parents.set_index('GHGRP FACILITY ID'))\n",
        "\n",
        "# Show the first few lines of data from each\n",
        "display(HTML(\"<h2>Direct Emitters:</h2>\"))\n",
        "display(join_emitters.head(5))\n",
        "display(HTML(\"<h2>Suppliers:</h2>\"))\n",
        "display(join_suppliers.head(5))"
      ],
      "execution_count": 94,
      "outputs": [
        {
          "output_type": "display_data",
          "data": {
            "text/html": [
              "<h2>Direct Emitters:</h2>"
            ],
            "text/plain": [
              "<IPython.core.display.HTML object>"
            ]
          },
          "metadata": {}
        },
        {
          "output_type": "display_data",
          "data": {
            "text/html": [
              "<div>\n",
              "<style scoped>\n",
              "    .dataframe tbody tr th:only-of-type {\n",
              "        vertical-align: middle;\n",
              "    }\n",
              "\n",
              "    .dataframe tbody tr th {\n",
              "        vertical-align: top;\n",
              "    }\n",
              "\n",
              "    .dataframe thead th {\n",
              "        text-align: right;\n",
              "    }\n",
              "</style>\n",
              "<table border=\"1\" class=\"dataframe\">\n",
              "  <thead>\n",
              "    <tr style=\"text-align: right;\">\n",
              "      <th></th>\n",
              "      <th>Name</th>\n",
              "      <th>2017 NAICS Code</th>\n",
              "      <th>Emissions (tCO2e)</th>\n",
              "      <th>2017 NAICS Title</th>\n",
              "      <th>FRS ID (FACILITY)</th>\n",
              "      <th>REPORTING YEAR</th>\n",
              "      <th>FACILITY NAME</th>\n",
              "      <th>FACILITY ADDRESS</th>\n",
              "      <th>FACILITY CITY</th>\n",
              "      <th>FACILITY STATE</th>\n",
              "      <th>FACILITY ZIP</th>\n",
              "      <th>FACILITY COUNTY</th>\n",
              "      <th>PARENT COMPANY NAME</th>\n",
              "      <th>PARENT CO. STREET ADDRESS</th>\n",
              "      <th>PARENT CO. CITY</th>\n",
              "      <th>PARENT CO. STATE</th>\n",
              "      <th>PARENT CO. ZIP</th>\n",
              "      <th>PARENT CO. PERCENT OWNERSHIP</th>\n",
              "      <th>FACILITY NAICS CODE</th>\n",
              "    </tr>\n",
              "  </thead>\n",
              "  <tbody>\n",
              "    <tr>\n",
              "      <th>1000001</th>\n",
              "      <td>PSE Ferndale Generating Station</td>\n",
              "      <td>221112</td>\n",
              "      <td>509154.612</td>\n",
              "      <td>Fossil Fuel Electric Power Generation</td>\n",
              "      <td>1.100005e+11</td>\n",
              "      <td>2020</td>\n",
              "      <td>PSE Ferndale Generating Station</td>\n",
              "      <td>5105 LAKE TERRELL ROAD</td>\n",
              "      <td>FERNDALE</td>\n",
              "      <td>WA</td>\n",
              "      <td>98248</td>\n",
              "      <td>WHATCOM COUNTY</td>\n",
              "      <td>PUGET HOLDINGS LLC</td>\n",
              "      <td>PO Box 97034</td>\n",
              "      <td>Bellevue</td>\n",
              "      <td>WA</td>\n",
              "      <td>98009</td>\n",
              "      <td>100.0</td>\n",
              "      <td>221112</td>\n",
              "    </tr>\n",
              "    <tr>\n",
              "      <th>1000002</th>\n",
              "      <td>Ardagh Glass Inc. (Dunkirk)</td>\n",
              "      <td>327213</td>\n",
              "      <td>113519.804</td>\n",
              "      <td>Glass Container Manufacturing</td>\n",
              "      <td>1.100412e+11</td>\n",
              "      <td>2020</td>\n",
              "      <td>Ardagh Glass Inc. (Dunkirk)</td>\n",
              "      <td>524 E. CENTER STREET</td>\n",
              "      <td>DUNKIRK</td>\n",
              "      <td>IN</td>\n",
              "      <td>47336</td>\n",
              "      <td>JAY COUNTY</td>\n",
              "      <td>ARDAGH GLASS INC</td>\n",
              "      <td>1209 Orange Street</td>\n",
              "      <td>Wilmington</td>\n",
              "      <td>DE</td>\n",
              "      <td>19801</td>\n",
              "      <td>100.0</td>\n",
              "      <td>327213</td>\n",
              "    </tr>\n",
              "    <tr>\n",
              "      <th>1000003</th>\n",
              "      <td>Ardagh Glass Inc. (Henderson)</td>\n",
              "      <td>327213</td>\n",
              "      <td>81110.872</td>\n",
              "      <td>Glass Container Manufacturing</td>\n",
              "      <td>1.100015e+11</td>\n",
              "      <td>2020</td>\n",
              "      <td>Ardagh Glass Inc. (Henderson)</td>\n",
              "      <td>620 Facet Road</td>\n",
              "      <td>Henderson</td>\n",
              "      <td>NC</td>\n",
              "      <td>27537</td>\n",
              "      <td>VANCE COUNTY</td>\n",
              "      <td>ARDAGH GLASS INC</td>\n",
              "      <td>1209 Orange Street</td>\n",
              "      <td>Wilmington</td>\n",
              "      <td>DE</td>\n",
              "      <td>19801</td>\n",
              "      <td>100.0</td>\n",
              "      <td>327213</td>\n",
              "    </tr>\n",
              "    <tr>\n",
              "      <th>1000005</th>\n",
              "      <td>Ardagh Glass Inc. (Madera)</td>\n",
              "      <td>327213</td>\n",
              "      <td>79854.076</td>\n",
              "      <td>Glass Container Manufacturing</td>\n",
              "      <td>1.100005e+11</td>\n",
              "      <td>2020</td>\n",
              "      <td>Ardagh Glass Inc. (Madera)</td>\n",
              "      <td>24441 AVENUE 12 &amp; ROAD 24 1/2</td>\n",
              "      <td>MADERA</td>\n",
              "      <td>CA</td>\n",
              "      <td>93637</td>\n",
              "      <td>MADERA COUNTY</td>\n",
              "      <td>ARDAGH GLASS INC</td>\n",
              "      <td>1209 Orange Street</td>\n",
              "      <td>Wilmington</td>\n",
              "      <td>DE</td>\n",
              "      <td>19801</td>\n",
              "      <td>100.0</td>\n",
              "      <td>327213</td>\n",
              "    </tr>\n",
              "    <tr>\n",
              "      <th>1000007</th>\n",
              "      <td>AMERICAN GYPSUM - BERNALILLO (WALLBOARD) PLANT</td>\n",
              "      <td>327420</td>\n",
              "      <td>14084.496</td>\n",
              "      <td>Gypsum Product Manufacturing</td>\n",
              "      <td>1.100070e+11</td>\n",
              "      <td>2020</td>\n",
              "      <td>AMERICAN GYPSUM - BERNALILLO (WALLBOARD) PLANT</td>\n",
              "      <td>1000 N HILL RD</td>\n",
              "      <td>BERNALILLO</td>\n",
              "      <td>NM</td>\n",
              "      <td>87004</td>\n",
              "      <td>SANDOVAL COUNTY</td>\n",
              "      <td>EAGLE MATERIALS INC</td>\n",
              "      <td>5960 Berkshire Lane Suite 800</td>\n",
              "      <td>Dallas</td>\n",
              "      <td>TX</td>\n",
              "      <td>75225</td>\n",
              "      <td>100.0</td>\n",
              "      <td>327420</td>\n",
              "    </tr>\n",
              "  </tbody>\n",
              "</table>\n",
              "</div>"
            ],
            "text/plain": [
              "                                                   Name  ... FACILITY NAICS CODE\n",
              "1000001                 PSE Ferndale Generating Station  ...              221112\n",
              "1000002                     Ardagh Glass Inc. (Dunkirk)  ...              327213\n",
              "1000003                   Ardagh Glass Inc. (Henderson)  ...              327213\n",
              "1000005                      Ardagh Glass Inc. (Madera)  ...              327213\n",
              "1000007  AMERICAN GYPSUM - BERNALILLO (WALLBOARD) PLANT  ...              327420\n",
              "\n",
              "[5 rows x 19 columns]"
            ]
          },
          "metadata": {}
        },
        {
          "output_type": "display_data",
          "data": {
            "text/html": [
              "<h2>Suppliers:</h2>"
            ],
            "text/plain": [
              "<IPython.core.display.HTML object>"
            ]
          },
          "metadata": {}
        },
        {
          "output_type": "display_data",
          "data": {
            "text/html": [
              "<div>\n",
              "<style scoped>\n",
              "    .dataframe tbody tr th:only-of-type {\n",
              "        vertical-align: middle;\n",
              "    }\n",
              "\n",
              "    .dataframe tbody tr th {\n",
              "        vertical-align: top;\n",
              "    }\n",
              "\n",
              "    .dataframe thead th {\n",
              "        text-align: right;\n",
              "    }\n",
              "</style>\n",
              "<table border=\"1\" class=\"dataframe\">\n",
              "  <thead>\n",
              "    <tr style=\"text-align: right;\">\n",
              "      <th></th>\n",
              "      <th>Name</th>\n",
              "      <th>2017 NAICS Code</th>\n",
              "      <th>Emissions (tCO2e)</th>\n",
              "      <th>2017 NAICS Title</th>\n",
              "      <th>FRS ID (FACILITY)</th>\n",
              "      <th>REPORTING YEAR</th>\n",
              "      <th>FACILITY NAME</th>\n",
              "      <th>FACILITY ADDRESS</th>\n",
              "      <th>FACILITY CITY</th>\n",
              "      <th>FACILITY STATE</th>\n",
              "      <th>FACILITY ZIP</th>\n",
              "      <th>FACILITY COUNTY</th>\n",
              "      <th>PARENT COMPANY NAME</th>\n",
              "      <th>PARENT CO. STREET ADDRESS</th>\n",
              "      <th>PARENT CO. CITY</th>\n",
              "      <th>PARENT CO. STATE</th>\n",
              "      <th>PARENT CO. ZIP</th>\n",
              "      <th>PARENT CO. PERCENT OWNERSHIP</th>\n",
              "      <th>FACILITY NAICS CODE</th>\n",
              "    </tr>\n",
              "  </thead>\n",
              "  <tbody>\n",
              "    <tr>\n",
              "      <th>1000008</th>\n",
              "      <td>St. Lawrence Gas Co., Inc.</td>\n",
              "      <td>221210</td>\n",
              "      <td>3.786518e+05</td>\n",
              "      <td>Natural Gas Distribution</td>\n",
              "      <td>1.100701e+11</td>\n",
              "      <td>2020</td>\n",
              "      <td>St. Lawrence Gas Co., Inc.</td>\n",
              "      <td>33 Stearns Street</td>\n",
              "      <td>Massena</td>\n",
              "      <td>NY</td>\n",
              "      <td>13662</td>\n",
              "      <td>ST. LAWRENCE COUNTY</td>\n",
              "      <td>ST LAWRENCE GAS CO</td>\n",
              "      <td>33 Stearns Street</td>\n",
              "      <td>Massena</td>\n",
              "      <td>NY</td>\n",
              "      <td>13662</td>\n",
              "      <td>100.0</td>\n",
              "      <td>221210</td>\n",
              "    </tr>\n",
              "    <tr>\n",
              "      <th>1000011</th>\n",
              "      <td>Central Hudson Gas and Electric Corporation</td>\n",
              "      <td>221122</td>\n",
              "      <td>1.011668e+06</td>\n",
              "      <td>Electric Power Distribution</td>\n",
              "      <td>1.100008e+11</td>\n",
              "      <td>2020</td>\n",
              "      <td>Central Hudson Gas and Electric Corporation</td>\n",
              "      <td>284 South Avenue</td>\n",
              "      <td>Poughkeepsie</td>\n",
              "      <td>NY</td>\n",
              "      <td>12601</td>\n",
              "      <td>DUTCHESS COUNTY</td>\n",
              "      <td>CENTRAL HUDSON GAS &amp; ELECTRIC CORP</td>\n",
              "      <td>284 South Avenue</td>\n",
              "      <td>Poughkeepsie</td>\n",
              "      <td>NY</td>\n",
              "      <td>12601</td>\n",
              "      <td>100.0</td>\n",
              "      <td>221122</td>\n",
              "    </tr>\n",
              "    <tr>\n",
              "      <th>1000025</th>\n",
              "      <td>PLACID REFINING CO LLC - PORT ALLEN REFINERY</td>\n",
              "      <td>324110</td>\n",
              "      <td>9.076471e+06</td>\n",
              "      <td>Petroleum Refineries</td>\n",
              "      <td>1.100004e+11</td>\n",
              "      <td>2020</td>\n",
              "      <td>PLACID REFINING CO LLC - PORT ALLEN REFINERY</td>\n",
              "      <td>1940 LA HWY 1, NORTH</td>\n",
              "      <td>PORT ALLEN</td>\n",
              "      <td>LA</td>\n",
              "      <td>70767</td>\n",
              "      <td>WEST BATON ROUGE PARISH</td>\n",
              "      <td>PLACID REFINING CO LLC</td>\n",
              "      <td>1940 LA HWY 1 North</td>\n",
              "      <td>Port Allen</td>\n",
              "      <td>LA</td>\n",
              "      <td>70767</td>\n",
              "      <td>100.0</td>\n",
              "      <td>324110</td>\n",
              "    </tr>\n",
              "    <tr>\n",
              "      <th>1000035</th>\n",
              "      <td>THE ANDERSONS MARATHON HOLDINGS LLC</td>\n",
              "      <td>325193</td>\n",
              "      <td>0.000000e+00</td>\n",
              "      <td>Ethyl Alcohol Manufacturing</td>\n",
              "      <td>1.100376e+11</td>\n",
              "      <td>2020</td>\n",
              "      <td>THE ANDERSONS MARATHON HOLDINGS LLC</td>\n",
              "      <td>5728 E SEBRING WARNER RD</td>\n",
              "      <td>GREENVILLE</td>\n",
              "      <td>OH</td>\n",
              "      <td>45331</td>\n",
              "      <td>DARKE COUNTY</td>\n",
              "      <td>THE ANDERSONS INC</td>\n",
              "      <td>PO Box 119</td>\n",
              "      <td>Maumee</td>\n",
              "      <td>OH</td>\n",
              "      <td>43537</td>\n",
              "      <td>50.0</td>\n",
              "      <td>325193</td>\n",
              "    </tr>\n",
              "    <tr>\n",
              "      <th>1000035</th>\n",
              "      <td>THE ANDERSONS MARATHON HOLDINGS LLC</td>\n",
              "      <td>325193</td>\n",
              "      <td>0.000000e+00</td>\n",
              "      <td>Ethyl Alcohol Manufacturing</td>\n",
              "      <td>1.100376e+11</td>\n",
              "      <td>2020</td>\n",
              "      <td>THE ANDERSONS MARATHON HOLDINGS LLC</td>\n",
              "      <td>5728 E SEBRING WARNER RD</td>\n",
              "      <td>GREENVILLE</td>\n",
              "      <td>OH</td>\n",
              "      <td>45331</td>\n",
              "      <td>DARKE COUNTY</td>\n",
              "      <td>MARATHON PETROLEUM CORP</td>\n",
              "      <td>539 South Main Street</td>\n",
              "      <td>Findlay</td>\n",
              "      <td>OH</td>\n",
              "      <td>45840</td>\n",
              "      <td>25.0</td>\n",
              "      <td>325193</td>\n",
              "    </tr>\n",
              "  </tbody>\n",
              "</table>\n",
              "</div>"
            ],
            "text/plain": [
              "                                                 Name  ... FACILITY NAICS CODE\n",
              "1000008                    St. Lawrence Gas Co., Inc.  ...              221210\n",
              "1000011   Central Hudson Gas and Electric Corporation  ...              221122\n",
              "1000025  PLACID REFINING CO LLC - PORT ALLEN REFINERY  ...              324110\n",
              "1000035           THE ANDERSONS MARATHON HOLDINGS LLC  ...              325193\n",
              "1000035           THE ANDERSONS MARATHON HOLDINGS LLC  ...              325193\n",
              "\n",
              "[5 rows x 19 columns]"
            ]
          },
          "metadata": {}
        }
      ]
    },
    {
      "cell_type": "markdown",
      "metadata": {
        "id": "EPgW1BragqPK"
      },
      "source": [
        "Show and remove the facilities/parents that have no reported emissions. \n",
        "\n",
        "We remove them because we don't want to end up having to convert their values to 0 and suggesting those facilities/companies have no actual emissions when they just have no *reported* emissions."
      ]
    },
    {
      "cell_type": "code",
      "metadata": {
        "colab": {
          "base_uri": "https://localhost:8080/",
          "height": 1000
        },
        "id": "ZMGUGvQjfivP",
        "outputId": "eaf65c20-aa1b-433b-cef4-8821727865b9"
      },
      "source": [
        "nas_e = join_emitters.loc[join_emitters[\"Emissions (tCO2e)\"] == 0]\n",
        "join_emitters = join_emitters.drop(nas_e.index)\n",
        "\n",
        "# For suppliers\n",
        "nas_s = join_suppliers.loc[join_suppliers[\"Emissions (tCO2e)\"]  == 0]\n",
        "join_suppliers = join_suppliers.drop(nas_s.index)\n",
        "\n",
        "# Show the first few lines of data from each\n",
        "display(HTML(\"<h2>Direct Emitters:</h2>\"))\n",
        "display(nas_e.head(5))\n",
        "display(HTML(\"<h2>Suppliers:</h2>\"))\n",
        "display(nas_s.head(5))"
      ],
      "execution_count": 95,
      "outputs": [
        {
          "output_type": "display_data",
          "data": {
            "text/html": [
              "<h2>Direct Emitters:</h2>"
            ],
            "text/plain": [
              "<IPython.core.display.HTML object>"
            ]
          },
          "metadata": {}
        },
        {
          "output_type": "display_data",
          "data": {
            "text/html": [
              "<div>\n",
              "<style scoped>\n",
              "    .dataframe tbody tr th:only-of-type {\n",
              "        vertical-align: middle;\n",
              "    }\n",
              "\n",
              "    .dataframe tbody tr th {\n",
              "        vertical-align: top;\n",
              "    }\n",
              "\n",
              "    .dataframe thead th {\n",
              "        text-align: right;\n",
              "    }\n",
              "</style>\n",
              "<table border=\"1\" class=\"dataframe\">\n",
              "  <thead>\n",
              "    <tr style=\"text-align: right;\">\n",
              "      <th></th>\n",
              "      <th>Name</th>\n",
              "      <th>2017 NAICS Code</th>\n",
              "      <th>Emissions (tCO2e)</th>\n",
              "      <th>2017 NAICS Title</th>\n",
              "      <th>FRS ID (FACILITY)</th>\n",
              "      <th>REPORTING YEAR</th>\n",
              "      <th>FACILITY NAME</th>\n",
              "      <th>FACILITY ADDRESS</th>\n",
              "      <th>FACILITY CITY</th>\n",
              "      <th>FACILITY STATE</th>\n",
              "      <th>FACILITY ZIP</th>\n",
              "      <th>FACILITY COUNTY</th>\n",
              "      <th>PARENT COMPANY NAME</th>\n",
              "      <th>PARENT CO. STREET ADDRESS</th>\n",
              "      <th>PARENT CO. CITY</th>\n",
              "      <th>PARENT CO. STATE</th>\n",
              "      <th>PARENT CO. ZIP</th>\n",
              "      <th>PARENT CO. PERCENT OWNERSHIP</th>\n",
              "      <th>FACILITY NAICS CODE</th>\n",
              "    </tr>\n",
              "  </thead>\n",
              "  <tbody>\n",
              "    <tr>\n",
              "      <th>1000100</th>\n",
              "      <td>Harquahala Generating Company</td>\n",
              "      <td>221112</td>\n",
              "      <td>0.0</td>\n",
              "      <td>Fossil Fuel Electric Power Generation</td>\n",
              "      <td>1.100123e+11</td>\n",
              "      <td>2020</td>\n",
              "      <td>Harquahala Generating Company</td>\n",
              "      <td>2530 NORTH 491 AVE</td>\n",
              "      <td>TONOPAH</td>\n",
              "      <td>AZ</td>\n",
              "      <td>85354</td>\n",
              "      <td>Maricopa</td>\n",
              "      <td>KELSON ENERGY</td>\n",
              "      <td>8840 Stanford Blvd</td>\n",
              "      <td>Columbia</td>\n",
              "      <td>MD</td>\n",
              "      <td>21045</td>\n",
              "      <td>100.0</td>\n",
              "      <td>221112</td>\n",
              "    </tr>\n",
              "    <tr>\n",
              "      <th>1000295</th>\n",
              "      <td>Spruance Genco, LLC</td>\n",
              "      <td>221112</td>\n",
              "      <td>0.0</td>\n",
              "      <td>Fossil Fuel Electric Power Generation</td>\n",
              "      <td>1.100009e+11</td>\n",
              "      <td>2020</td>\n",
              "      <td>Spruance Genco, LLC</td>\n",
              "      <td>5001 COMMERCE ROAD</td>\n",
              "      <td>RICHMOND</td>\n",
              "      <td>VA</td>\n",
              "      <td>23234</td>\n",
              "      <td>Richmond (City)</td>\n",
              "      <td>DUPONT DE NEMOURS INC</td>\n",
              "      <td>974 Centre Road</td>\n",
              "      <td>Wilmington</td>\n",
              "      <td>DE</td>\n",
              "      <td>19805</td>\n",
              "      <td>100.0</td>\n",
              "      <td>221112</td>\n",
              "    </tr>\n",
              "    <tr>\n",
              "      <th>1000469</th>\n",
              "      <td>Inland Empire Energy Center</td>\n",
              "      <td>221112</td>\n",
              "      <td>0.0</td>\n",
              "      <td>Fossil Fuel Electric Power Generation</td>\n",
              "      <td>1.100307e+11</td>\n",
              "      <td>2020</td>\n",
              "      <td>Inland Empire Energy Center</td>\n",
              "      <td>26226 ANTELOPE RD</td>\n",
              "      <td>ROMOLAND</td>\n",
              "      <td>CA</td>\n",
              "      <td>92585</td>\n",
              "      <td>Riverside</td>\n",
              "      <td>GENERAL ELECTRIC CO</td>\n",
              "      <td>1 River Road</td>\n",
              "      <td>Schenectady</td>\n",
              "      <td>NY</td>\n",
              "      <td>12345</td>\n",
              "      <td>100.0</td>\n",
              "      <td>221112</td>\n",
              "    </tr>\n",
              "    <tr>\n",
              "      <th>1000506</th>\n",
              "      <td>Sargent Canyon Cogeneration Facility</td>\n",
              "      <td>221112</td>\n",
              "      <td>0.0</td>\n",
              "      <td>Fossil Fuel Electric Power Generation</td>\n",
              "      <td>1.100431e+11</td>\n",
              "      <td>2020</td>\n",
              "      <td>Sargent Canyon Cogeneration Facility</td>\n",
              "      <td>NaN</td>\n",
              "      <td>San Ardo</td>\n",
              "      <td>CA</td>\n",
              "      <td>93450</td>\n",
              "      <td>Monterey</td>\n",
              "      <td>CHEVRON CORP</td>\n",
              "      <td>6001 Bollinger Canyon Road</td>\n",
              "      <td>San Ramon</td>\n",
              "      <td>CA</td>\n",
              "      <td>94583</td>\n",
              "      <td>100.0</td>\n",
              "      <td>221112</td>\n",
              "    </tr>\n",
              "    <tr>\n",
              "      <th>1000708</th>\n",
              "      <td>SOLUTIA INC ANNISTON PLANT</td>\n",
              "      <td>325199</td>\n",
              "      <td>0.0</td>\n",
              "      <td>All Other Basic Organic Chemical Manufacturing</td>\n",
              "      <td>1.100004e+11</td>\n",
              "      <td>2020</td>\n",
              "      <td>SOLUTIA INC ANNISTON PLANT</td>\n",
              "      <td>702 CLYDESDALE AVENUE</td>\n",
              "      <td>ANNISTON</td>\n",
              "      <td>AL</td>\n",
              "      <td>36201</td>\n",
              "      <td>CALHOUN COUNTY</td>\n",
              "      <td>EASTMAN CHEMICAL CO</td>\n",
              "      <td>575 Maryville Centre Drive</td>\n",
              "      <td>Saint Louis</td>\n",
              "      <td>MO</td>\n",
              "      <td>63141</td>\n",
              "      <td>100.0</td>\n",
              "      <td>325199</td>\n",
              "    </tr>\n",
              "  </tbody>\n",
              "</table>\n",
              "</div>"
            ],
            "text/plain": [
              "                                         Name  ... FACILITY NAICS CODE\n",
              "1000100         Harquahala Generating Company  ...              221112\n",
              "1000295                   Spruance Genco, LLC  ...              221112\n",
              "1000469           Inland Empire Energy Center  ...              221112\n",
              "1000506  Sargent Canyon Cogeneration Facility  ...              221112\n",
              "1000708            SOLUTIA INC ANNISTON PLANT  ...              325199\n",
              "\n",
              "[5 rows x 19 columns]"
            ]
          },
          "metadata": {}
        },
        {
          "output_type": "display_data",
          "data": {
            "text/html": [
              "<h2>Suppliers:</h2>"
            ],
            "text/plain": [
              "<IPython.core.display.HTML object>"
            ]
          },
          "metadata": {}
        },
        {
          "output_type": "display_data",
          "data": {
            "text/html": [
              "<div>\n",
              "<style scoped>\n",
              "    .dataframe tbody tr th:only-of-type {\n",
              "        vertical-align: middle;\n",
              "    }\n",
              "\n",
              "    .dataframe tbody tr th {\n",
              "        vertical-align: top;\n",
              "    }\n",
              "\n",
              "    .dataframe thead th {\n",
              "        text-align: right;\n",
              "    }\n",
              "</style>\n",
              "<table border=\"1\" class=\"dataframe\">\n",
              "  <thead>\n",
              "    <tr style=\"text-align: right;\">\n",
              "      <th></th>\n",
              "      <th>Name</th>\n",
              "      <th>2017 NAICS Code</th>\n",
              "      <th>Emissions (tCO2e)</th>\n",
              "      <th>2017 NAICS Title</th>\n",
              "      <th>FRS ID (FACILITY)</th>\n",
              "      <th>REPORTING YEAR</th>\n",
              "      <th>FACILITY NAME</th>\n",
              "      <th>FACILITY ADDRESS</th>\n",
              "      <th>FACILITY CITY</th>\n",
              "      <th>FACILITY STATE</th>\n",
              "      <th>FACILITY ZIP</th>\n",
              "      <th>FACILITY COUNTY</th>\n",
              "      <th>PARENT COMPANY NAME</th>\n",
              "      <th>PARENT CO. STREET ADDRESS</th>\n",
              "      <th>PARENT CO. CITY</th>\n",
              "      <th>PARENT CO. STATE</th>\n",
              "      <th>PARENT CO. ZIP</th>\n",
              "      <th>PARENT CO. PERCENT OWNERSHIP</th>\n",
              "      <th>FACILITY NAICS CODE</th>\n",
              "    </tr>\n",
              "  </thead>\n",
              "  <tbody>\n",
              "    <tr>\n",
              "      <th>1000035</th>\n",
              "      <td>THE ANDERSONS MARATHON HOLDINGS LLC</td>\n",
              "      <td>325193</td>\n",
              "      <td>0.0</td>\n",
              "      <td>Ethyl Alcohol Manufacturing</td>\n",
              "      <td>1.100376e+11</td>\n",
              "      <td>2020</td>\n",
              "      <td>THE ANDERSONS MARATHON HOLDINGS LLC</td>\n",
              "      <td>5728 E SEBRING WARNER RD</td>\n",
              "      <td>GREENVILLE</td>\n",
              "      <td>OH</td>\n",
              "      <td>45331</td>\n",
              "      <td>DARKE COUNTY</td>\n",
              "      <td>THE ANDERSONS INC</td>\n",
              "      <td>PO Box 119</td>\n",
              "      <td>Maumee</td>\n",
              "      <td>OH</td>\n",
              "      <td>43537</td>\n",
              "      <td>50.0</td>\n",
              "      <td>325193</td>\n",
              "    </tr>\n",
              "    <tr>\n",
              "      <th>1000035</th>\n",
              "      <td>THE ANDERSONS MARATHON HOLDINGS LLC</td>\n",
              "      <td>325193</td>\n",
              "      <td>0.0</td>\n",
              "      <td>Ethyl Alcohol Manufacturing</td>\n",
              "      <td>1.100376e+11</td>\n",
              "      <td>2020</td>\n",
              "      <td>THE ANDERSONS MARATHON HOLDINGS LLC</td>\n",
              "      <td>5728 E SEBRING WARNER RD</td>\n",
              "      <td>GREENVILLE</td>\n",
              "      <td>OH</td>\n",
              "      <td>45331</td>\n",
              "      <td>DARKE COUNTY</td>\n",
              "      <td>MARATHON PETROLEUM CORP</td>\n",
              "      <td>539 South Main Street</td>\n",
              "      <td>Findlay</td>\n",
              "      <td>OH</td>\n",
              "      <td>45840</td>\n",
              "      <td>25.0</td>\n",
              "      <td>325193</td>\n",
              "    </tr>\n",
              "    <tr>\n",
              "      <th>1000035</th>\n",
              "      <td>THE ANDERSONS MARATHON HOLDINGS LLC</td>\n",
              "      <td>325193</td>\n",
              "      <td>0.0</td>\n",
              "      <td>Ethyl Alcohol Manufacturing</td>\n",
              "      <td>1.100376e+11</td>\n",
              "      <td>2020</td>\n",
              "      <td>THE ANDERSONS MARATHON HOLDINGS LLC</td>\n",
              "      <td>5728 E SEBRING WARNER RD</td>\n",
              "      <td>GREENVILLE</td>\n",
              "      <td>OH</td>\n",
              "      <td>45331</td>\n",
              "      <td>DARKE COUNTY</td>\n",
              "      <td>MARATHON PETROLEUM CORP</td>\n",
              "      <td>539 South Main Street</td>\n",
              "      <td>Findlay</td>\n",
              "      <td>OH</td>\n",
              "      <td>45840</td>\n",
              "      <td>25.0</td>\n",
              "      <td>325193</td>\n",
              "    </tr>\n",
              "    <tr>\n",
              "      <th>1000039</th>\n",
              "      <td>GE's Grid Solutions</td>\n",
              "      <td>335313</td>\n",
              "      <td>0.0</td>\n",
              "      <td>Switchgear and Switchboard Apparatus Manufactu...</td>\n",
              "      <td>1.100329e+11</td>\n",
              "      <td>2020</td>\n",
              "      <td>GE's Grid Solutions</td>\n",
              "      <td>One Power Lane</td>\n",
              "      <td>Charleroi</td>\n",
              "      <td>PA</td>\n",
              "      <td>15022</td>\n",
              "      <td>WASHINGTON COUNTY</td>\n",
              "      <td>GENERAL ELECTRIC CO</td>\n",
              "      <td>41 Farnsworth Street</td>\n",
              "      <td>Boston</td>\n",
              "      <td>MA</td>\n",
              "      <td>2210</td>\n",
              "      <td>100.0</td>\n",
              "      <td>335313</td>\n",
              "    </tr>\n",
              "    <tr>\n",
              "      <th>1000158</th>\n",
              "      <td>Ascend (Decatur Plant)</td>\n",
              "      <td>325199</td>\n",
              "      <td>0.0</td>\n",
              "      <td>All Other Basic Organic Chemical Manufacturing</td>\n",
              "      <td>1.100072e+11</td>\n",
              "      <td>2020</td>\n",
              "      <td>Ascend (Decatur Plant)</td>\n",
              "      <td>1050 CHEMSTRAND AVENUE</td>\n",
              "      <td>DECATUR</td>\n",
              "      <td>AL</td>\n",
              "      <td>35601</td>\n",
              "      <td>Morgan</td>\n",
              "      <td>ASCEND PERFORMANCE MATERIALS HOLDINGS INC</td>\n",
              "      <td>1010 Travis Street, Suite 900</td>\n",
              "      <td>Houston</td>\n",
              "      <td>TX</td>\n",
              "      <td>77002-3014</td>\n",
              "      <td>100.0</td>\n",
              "      <td>325199</td>\n",
              "    </tr>\n",
              "  </tbody>\n",
              "</table>\n",
              "</div>"
            ],
            "text/plain": [
              "                                        Name  ... FACILITY NAICS CODE\n",
              "1000035  THE ANDERSONS MARATHON HOLDINGS LLC  ...              325193\n",
              "1000035  THE ANDERSONS MARATHON HOLDINGS LLC  ...              325193\n",
              "1000035  THE ANDERSONS MARATHON HOLDINGS LLC  ...              325193\n",
              "1000039                  GE's Grid Solutions  ...              335313\n",
              "1000158               Ascend (Decatur Plant)  ...              325199\n",
              "\n",
              "[5 rows x 19 columns]"
            ]
          },
          "metadata": {}
        }
      ]
    },
    {
      "cell_type": "markdown",
      "metadata": {
        "id": "-Jg0tThR-CPi"
      },
      "source": [
        "# Calculate parent responsibility based on percent ownership\n",
        "\n",
        "Some companies have less than 100% ownership of a given facility - they share ownership with other entities. We divide a facility's emissions between all owners according to their percent share."
      ]
    },
    {
      "cell_type": "code",
      "metadata": {
        "colab": {
          "base_uri": "https://localhost:8080/",
          "height": 1000
        },
        "id": "MoQ5K3778XAd",
        "outputId": "9db5ab7f-064e-4cc5-d32b-2a73901060c9"
      },
      "source": [
        "# PARENT SHARE = for each facility, and for each owner, how many of that facility's emissions was that owner responsible for based on percent ownership.\n",
        "join_emitters[\"PARENT EMISSIONS AMT\"] = join_emitters['Emissions (tCO2e)'] * join_emitters[\"PARENT CO. PERCENT OWNERSHIP\"] / 100 \n",
        "join_suppliers[\"PARENT EMISSIONS AMT\"] = join_suppliers['Emissions (tCO2e)'] * join_suppliers[\"PARENT CO. PERCENT OWNERSHIP\"] / 100 \n",
        "\n",
        "# Show the first few lines of data from each\n",
        "display(HTML(\"<h2>Direct Emitters:</h2>\"))\n",
        "display(join_emitters.head(5))\n",
        "display(HTML(\"<h2>Suppliers:</h2>\"))\n",
        "display(join_suppliers.head(5))"
      ],
      "execution_count": 96,
      "outputs": [
        {
          "output_type": "display_data",
          "data": {
            "text/html": [
              "<h2>Direct Emitters:</h2>"
            ],
            "text/plain": [
              "<IPython.core.display.HTML object>"
            ]
          },
          "metadata": {}
        },
        {
          "output_type": "display_data",
          "data": {
            "text/html": [
              "<div>\n",
              "<style scoped>\n",
              "    .dataframe tbody tr th:only-of-type {\n",
              "        vertical-align: middle;\n",
              "    }\n",
              "\n",
              "    .dataframe tbody tr th {\n",
              "        vertical-align: top;\n",
              "    }\n",
              "\n",
              "    .dataframe thead th {\n",
              "        text-align: right;\n",
              "    }\n",
              "</style>\n",
              "<table border=\"1\" class=\"dataframe\">\n",
              "  <thead>\n",
              "    <tr style=\"text-align: right;\">\n",
              "      <th></th>\n",
              "      <th>Name</th>\n",
              "      <th>2017 NAICS Code</th>\n",
              "      <th>Emissions (tCO2e)</th>\n",
              "      <th>2017 NAICS Title</th>\n",
              "      <th>FRS ID (FACILITY)</th>\n",
              "      <th>REPORTING YEAR</th>\n",
              "      <th>FACILITY NAME</th>\n",
              "      <th>FACILITY ADDRESS</th>\n",
              "      <th>FACILITY CITY</th>\n",
              "      <th>FACILITY STATE</th>\n",
              "      <th>FACILITY ZIP</th>\n",
              "      <th>FACILITY COUNTY</th>\n",
              "      <th>PARENT COMPANY NAME</th>\n",
              "      <th>PARENT CO. STREET ADDRESS</th>\n",
              "      <th>PARENT CO. CITY</th>\n",
              "      <th>PARENT CO. STATE</th>\n",
              "      <th>PARENT CO. ZIP</th>\n",
              "      <th>PARENT CO. PERCENT OWNERSHIP</th>\n",
              "      <th>FACILITY NAICS CODE</th>\n",
              "      <th>PARENT EMISSIONS AMT</th>\n",
              "    </tr>\n",
              "  </thead>\n",
              "  <tbody>\n",
              "    <tr>\n",
              "      <th>1000001</th>\n",
              "      <td>PSE Ferndale Generating Station</td>\n",
              "      <td>221112</td>\n",
              "      <td>509154.612</td>\n",
              "      <td>Fossil Fuel Electric Power Generation</td>\n",
              "      <td>1.100005e+11</td>\n",
              "      <td>2020</td>\n",
              "      <td>PSE Ferndale Generating Station</td>\n",
              "      <td>5105 LAKE TERRELL ROAD</td>\n",
              "      <td>FERNDALE</td>\n",
              "      <td>WA</td>\n",
              "      <td>98248</td>\n",
              "      <td>WHATCOM COUNTY</td>\n",
              "      <td>PUGET HOLDINGS LLC</td>\n",
              "      <td>PO Box 97034</td>\n",
              "      <td>Bellevue</td>\n",
              "      <td>WA</td>\n",
              "      <td>98009</td>\n",
              "      <td>100.0</td>\n",
              "      <td>221112</td>\n",
              "      <td>509154.612</td>\n",
              "    </tr>\n",
              "    <tr>\n",
              "      <th>1000002</th>\n",
              "      <td>Ardagh Glass Inc. (Dunkirk)</td>\n",
              "      <td>327213</td>\n",
              "      <td>113519.804</td>\n",
              "      <td>Glass Container Manufacturing</td>\n",
              "      <td>1.100412e+11</td>\n",
              "      <td>2020</td>\n",
              "      <td>Ardagh Glass Inc. (Dunkirk)</td>\n",
              "      <td>524 E. CENTER STREET</td>\n",
              "      <td>DUNKIRK</td>\n",
              "      <td>IN</td>\n",
              "      <td>47336</td>\n",
              "      <td>JAY COUNTY</td>\n",
              "      <td>ARDAGH GLASS INC</td>\n",
              "      <td>1209 Orange Street</td>\n",
              "      <td>Wilmington</td>\n",
              "      <td>DE</td>\n",
              "      <td>19801</td>\n",
              "      <td>100.0</td>\n",
              "      <td>327213</td>\n",
              "      <td>113519.804</td>\n",
              "    </tr>\n",
              "    <tr>\n",
              "      <th>1000003</th>\n",
              "      <td>Ardagh Glass Inc. (Henderson)</td>\n",
              "      <td>327213</td>\n",
              "      <td>81110.872</td>\n",
              "      <td>Glass Container Manufacturing</td>\n",
              "      <td>1.100015e+11</td>\n",
              "      <td>2020</td>\n",
              "      <td>Ardagh Glass Inc. (Henderson)</td>\n",
              "      <td>620 Facet Road</td>\n",
              "      <td>Henderson</td>\n",
              "      <td>NC</td>\n",
              "      <td>27537</td>\n",
              "      <td>VANCE COUNTY</td>\n",
              "      <td>ARDAGH GLASS INC</td>\n",
              "      <td>1209 Orange Street</td>\n",
              "      <td>Wilmington</td>\n",
              "      <td>DE</td>\n",
              "      <td>19801</td>\n",
              "      <td>100.0</td>\n",
              "      <td>327213</td>\n",
              "      <td>81110.872</td>\n",
              "    </tr>\n",
              "    <tr>\n",
              "      <th>1000005</th>\n",
              "      <td>Ardagh Glass Inc. (Madera)</td>\n",
              "      <td>327213</td>\n",
              "      <td>79854.076</td>\n",
              "      <td>Glass Container Manufacturing</td>\n",
              "      <td>1.100005e+11</td>\n",
              "      <td>2020</td>\n",
              "      <td>Ardagh Glass Inc. (Madera)</td>\n",
              "      <td>24441 AVENUE 12 &amp; ROAD 24 1/2</td>\n",
              "      <td>MADERA</td>\n",
              "      <td>CA</td>\n",
              "      <td>93637</td>\n",
              "      <td>MADERA COUNTY</td>\n",
              "      <td>ARDAGH GLASS INC</td>\n",
              "      <td>1209 Orange Street</td>\n",
              "      <td>Wilmington</td>\n",
              "      <td>DE</td>\n",
              "      <td>19801</td>\n",
              "      <td>100.0</td>\n",
              "      <td>327213</td>\n",
              "      <td>79854.076</td>\n",
              "    </tr>\n",
              "    <tr>\n",
              "      <th>1000007</th>\n",
              "      <td>AMERICAN GYPSUM - BERNALILLO (WALLBOARD) PLANT</td>\n",
              "      <td>327420</td>\n",
              "      <td>14084.496</td>\n",
              "      <td>Gypsum Product Manufacturing</td>\n",
              "      <td>1.100070e+11</td>\n",
              "      <td>2020</td>\n",
              "      <td>AMERICAN GYPSUM - BERNALILLO (WALLBOARD) PLANT</td>\n",
              "      <td>1000 N HILL RD</td>\n",
              "      <td>BERNALILLO</td>\n",
              "      <td>NM</td>\n",
              "      <td>87004</td>\n",
              "      <td>SANDOVAL COUNTY</td>\n",
              "      <td>EAGLE MATERIALS INC</td>\n",
              "      <td>5960 Berkshire Lane Suite 800</td>\n",
              "      <td>Dallas</td>\n",
              "      <td>TX</td>\n",
              "      <td>75225</td>\n",
              "      <td>100.0</td>\n",
              "      <td>327420</td>\n",
              "      <td>14084.496</td>\n",
              "    </tr>\n",
              "  </tbody>\n",
              "</table>\n",
              "</div>"
            ],
            "text/plain": [
              "                                                   Name  ... PARENT EMISSIONS AMT\n",
              "1000001                 PSE Ferndale Generating Station  ...           509154.612\n",
              "1000002                     Ardagh Glass Inc. (Dunkirk)  ...           113519.804\n",
              "1000003                   Ardagh Glass Inc. (Henderson)  ...            81110.872\n",
              "1000005                      Ardagh Glass Inc. (Madera)  ...            79854.076\n",
              "1000007  AMERICAN GYPSUM - BERNALILLO (WALLBOARD) PLANT  ...            14084.496\n",
              "\n",
              "[5 rows x 20 columns]"
            ]
          },
          "metadata": {}
        },
        {
          "output_type": "display_data",
          "data": {
            "text/html": [
              "<h2>Suppliers:</h2>"
            ],
            "text/plain": [
              "<IPython.core.display.HTML object>"
            ]
          },
          "metadata": {}
        },
        {
          "output_type": "display_data",
          "data": {
            "text/html": [
              "<div>\n",
              "<style scoped>\n",
              "    .dataframe tbody tr th:only-of-type {\n",
              "        vertical-align: middle;\n",
              "    }\n",
              "\n",
              "    .dataframe tbody tr th {\n",
              "        vertical-align: top;\n",
              "    }\n",
              "\n",
              "    .dataframe thead th {\n",
              "        text-align: right;\n",
              "    }\n",
              "</style>\n",
              "<table border=\"1\" class=\"dataframe\">\n",
              "  <thead>\n",
              "    <tr style=\"text-align: right;\">\n",
              "      <th></th>\n",
              "      <th>Name</th>\n",
              "      <th>2017 NAICS Code</th>\n",
              "      <th>Emissions (tCO2e)</th>\n",
              "      <th>2017 NAICS Title</th>\n",
              "      <th>FRS ID (FACILITY)</th>\n",
              "      <th>REPORTING YEAR</th>\n",
              "      <th>FACILITY NAME</th>\n",
              "      <th>FACILITY ADDRESS</th>\n",
              "      <th>FACILITY CITY</th>\n",
              "      <th>FACILITY STATE</th>\n",
              "      <th>FACILITY ZIP</th>\n",
              "      <th>FACILITY COUNTY</th>\n",
              "      <th>PARENT COMPANY NAME</th>\n",
              "      <th>PARENT CO. STREET ADDRESS</th>\n",
              "      <th>PARENT CO. CITY</th>\n",
              "      <th>PARENT CO. STATE</th>\n",
              "      <th>PARENT CO. ZIP</th>\n",
              "      <th>PARENT CO. PERCENT OWNERSHIP</th>\n",
              "      <th>FACILITY NAICS CODE</th>\n",
              "      <th>PARENT EMISSIONS AMT</th>\n",
              "    </tr>\n",
              "  </thead>\n",
              "  <tbody>\n",
              "    <tr>\n",
              "      <th>1000008</th>\n",
              "      <td>St. Lawrence Gas Co., Inc.</td>\n",
              "      <td>221210</td>\n",
              "      <td>3.786518e+05</td>\n",
              "      <td>Natural Gas Distribution</td>\n",
              "      <td>1.100701e+11</td>\n",
              "      <td>2020</td>\n",
              "      <td>St. Lawrence Gas Co., Inc.</td>\n",
              "      <td>33 Stearns Street</td>\n",
              "      <td>Massena</td>\n",
              "      <td>NY</td>\n",
              "      <td>13662</td>\n",
              "      <td>ST. LAWRENCE COUNTY</td>\n",
              "      <td>ST LAWRENCE GAS CO</td>\n",
              "      <td>33 Stearns Street</td>\n",
              "      <td>Massena</td>\n",
              "      <td>NY</td>\n",
              "      <td>13662</td>\n",
              "      <td>100.0</td>\n",
              "      <td>221210</td>\n",
              "      <td>3.786518e+05</td>\n",
              "    </tr>\n",
              "    <tr>\n",
              "      <th>1000011</th>\n",
              "      <td>Central Hudson Gas and Electric Corporation</td>\n",
              "      <td>221122</td>\n",
              "      <td>1.011668e+06</td>\n",
              "      <td>Electric Power Distribution</td>\n",
              "      <td>1.100008e+11</td>\n",
              "      <td>2020</td>\n",
              "      <td>Central Hudson Gas and Electric Corporation</td>\n",
              "      <td>284 South Avenue</td>\n",
              "      <td>Poughkeepsie</td>\n",
              "      <td>NY</td>\n",
              "      <td>12601</td>\n",
              "      <td>DUTCHESS COUNTY</td>\n",
              "      <td>CENTRAL HUDSON GAS &amp; ELECTRIC CORP</td>\n",
              "      <td>284 South Avenue</td>\n",
              "      <td>Poughkeepsie</td>\n",
              "      <td>NY</td>\n",
              "      <td>12601</td>\n",
              "      <td>100.0</td>\n",
              "      <td>221122</td>\n",
              "      <td>1.011668e+06</td>\n",
              "    </tr>\n",
              "    <tr>\n",
              "      <th>1000025</th>\n",
              "      <td>PLACID REFINING CO LLC - PORT ALLEN REFINERY</td>\n",
              "      <td>324110</td>\n",
              "      <td>9.076471e+06</td>\n",
              "      <td>Petroleum Refineries</td>\n",
              "      <td>1.100004e+11</td>\n",
              "      <td>2020</td>\n",
              "      <td>PLACID REFINING CO LLC - PORT ALLEN REFINERY</td>\n",
              "      <td>1940 LA HWY 1, NORTH</td>\n",
              "      <td>PORT ALLEN</td>\n",
              "      <td>LA</td>\n",
              "      <td>70767</td>\n",
              "      <td>WEST BATON ROUGE PARISH</td>\n",
              "      <td>PLACID REFINING CO LLC</td>\n",
              "      <td>1940 LA HWY 1 North</td>\n",
              "      <td>Port Allen</td>\n",
              "      <td>LA</td>\n",
              "      <td>70767</td>\n",
              "      <td>100.0</td>\n",
              "      <td>324110</td>\n",
              "      <td>9.076471e+06</td>\n",
              "    </tr>\n",
              "    <tr>\n",
              "      <th>1000054</th>\n",
              "      <td>City of Tallahassee Natural Gas Utility</td>\n",
              "      <td>221210</td>\n",
              "      <td>1.549874e+05</td>\n",
              "      <td>Natural Gas Distribution</td>\n",
              "      <td>1.100053e+11</td>\n",
              "      <td>2020</td>\n",
              "      <td>City of Tallahassee Natural Gas Utility</td>\n",
              "      <td>2602 Jackson Bluff Road</td>\n",
              "      <td>Tallahassee</td>\n",
              "      <td>FL</td>\n",
              "      <td>32304</td>\n",
              "      <td>LEON COUNTY</td>\n",
              "      <td>CITY OF TALLAHASSEE</td>\n",
              "      <td>300 S. Adams Street</td>\n",
              "      <td>Tallahassee</td>\n",
              "      <td>FL</td>\n",
              "      <td>32301</td>\n",
              "      <td>100.0</td>\n",
              "      <td>221210</td>\n",
              "      <td>1.549874e+05</td>\n",
              "    </tr>\n",
              "    <tr>\n",
              "      <th>1000064</th>\n",
              "      <td>LONE STAR GAS LIQUIDS</td>\n",
              "      <td>211130</td>\n",
              "      <td>6.410694e+05</td>\n",
              "      <td>Natural Gas Extraction</td>\n",
              "      <td>1.100005e+11</td>\n",
              "      <td>2020</td>\n",
              "      <td>LONE STAR GAS LIQUIDS</td>\n",
              "      <td>19430 BEECH AVENUE</td>\n",
              "      <td>SHAFTER</td>\n",
              "      <td>CA</td>\n",
              "      <td>93263</td>\n",
              "      <td>KERN COUNTY</td>\n",
              "      <td>PLAINS GP HOLDINGS LP</td>\n",
              "      <td>19340 Beech Ave.</td>\n",
              "      <td>Shafter</td>\n",
              "      <td>CA</td>\n",
              "      <td>93263</td>\n",
              "      <td>100.0</td>\n",
              "      <td>211130</td>\n",
              "      <td>6.410694e+05</td>\n",
              "    </tr>\n",
              "  </tbody>\n",
              "</table>\n",
              "</div>"
            ],
            "text/plain": [
              "                                                 Name  ... PARENT EMISSIONS AMT\n",
              "1000008                    St. Lawrence Gas Co., Inc.  ...         3.786518e+05\n",
              "1000011   Central Hudson Gas and Electric Corporation  ...         1.011668e+06\n",
              "1000025  PLACID REFINING CO LLC - PORT ALLEN REFINERY  ...         9.076471e+06\n",
              "1000054       City of Tallahassee Natural Gas Utility  ...         1.549874e+05\n",
              "1000064                         LONE STAR GAS LIQUIDS  ...         6.410694e+05\n",
              "\n",
              "[5 rows x 20 columns]"
            ]
          },
          "metadata": {}
        }
      ]
    },
    {
      "cell_type": "markdown",
      "metadata": {
        "id": "FHaJW4ZKhekf"
      },
      "source": [
        "Optional view specifically on facilities with multiple owners"
      ]
    },
    {
      "cell_type": "code",
      "metadata": {
        "colab": {
          "base_uri": "https://localhost:8080/",
          "height": 1000
        },
        "id": "9JITNS04hhn0",
        "outputId": "3de40b73-5d55-463a-ca58-2e9cea4868ab"
      },
      "source": [
        "display(HTML(\"<h2>Direct Emitters:</h2>\"))\n",
        "display(join_emitters.loc[join_emitters[\"PARENT CO. PERCENT OWNERSHIP\"]<100].head(5))\n",
        "display(HTML(\"<h2>Suppliers:</h2>\"))\n",
        "display(join_suppliers.loc[join_suppliers[\"PARENT CO. PERCENT OWNERSHIP\"]<100].head(5))"
      ],
      "execution_count": 97,
      "outputs": [
        {
          "output_type": "display_data",
          "data": {
            "text/html": [
              "<h2>Direct Emitters:</h2>"
            ],
            "text/plain": [
              "<IPython.core.display.HTML object>"
            ]
          },
          "metadata": {}
        },
        {
          "output_type": "display_data",
          "data": {
            "text/html": [
              "<div>\n",
              "<style scoped>\n",
              "    .dataframe tbody tr th:only-of-type {\n",
              "        vertical-align: middle;\n",
              "    }\n",
              "\n",
              "    .dataframe tbody tr th {\n",
              "        vertical-align: top;\n",
              "    }\n",
              "\n",
              "    .dataframe thead th {\n",
              "        text-align: right;\n",
              "    }\n",
              "</style>\n",
              "<table border=\"1\" class=\"dataframe\">\n",
              "  <thead>\n",
              "    <tr style=\"text-align: right;\">\n",
              "      <th></th>\n",
              "      <th>Name</th>\n",
              "      <th>2017 NAICS Code</th>\n",
              "      <th>Emissions (tCO2e)</th>\n",
              "      <th>2017 NAICS Title</th>\n",
              "      <th>FRS ID (FACILITY)</th>\n",
              "      <th>REPORTING YEAR</th>\n",
              "      <th>FACILITY NAME</th>\n",
              "      <th>FACILITY ADDRESS</th>\n",
              "      <th>FACILITY CITY</th>\n",
              "      <th>FACILITY STATE</th>\n",
              "      <th>FACILITY ZIP</th>\n",
              "      <th>FACILITY COUNTY</th>\n",
              "      <th>PARENT COMPANY NAME</th>\n",
              "      <th>PARENT CO. STREET ADDRESS</th>\n",
              "      <th>PARENT CO. CITY</th>\n",
              "      <th>PARENT CO. STATE</th>\n",
              "      <th>PARENT CO. ZIP</th>\n",
              "      <th>PARENT CO. PERCENT OWNERSHIP</th>\n",
              "      <th>FACILITY NAICS CODE</th>\n",
              "      <th>PARENT EMISSIONS AMT</th>\n",
              "    </tr>\n",
              "  </thead>\n",
              "  <tbody>\n",
              "    <tr>\n",
              "      <th>1000035</th>\n",
              "      <td>THE ANDERSONS MARATHON HOLDINGS LLC</td>\n",
              "      <td>325193</td>\n",
              "      <td>164947.828</td>\n",
              "      <td>Ethyl Alcohol Manufacturing</td>\n",
              "      <td>1.100376e+11</td>\n",
              "      <td>2020</td>\n",
              "      <td>THE ANDERSONS MARATHON HOLDINGS LLC</td>\n",
              "      <td>5728 E SEBRING WARNER RD</td>\n",
              "      <td>GREENVILLE</td>\n",
              "      <td>OH</td>\n",
              "      <td>45331</td>\n",
              "      <td>DARKE COUNTY</td>\n",
              "      <td>THE ANDERSONS INC</td>\n",
              "      <td>PO Box 119</td>\n",
              "      <td>Maumee</td>\n",
              "      <td>OH</td>\n",
              "      <td>43537</td>\n",
              "      <td>50.0000</td>\n",
              "      <td>325193</td>\n",
              "      <td>82473.914000</td>\n",
              "    </tr>\n",
              "    <tr>\n",
              "      <th>1000035</th>\n",
              "      <td>THE ANDERSONS MARATHON HOLDINGS LLC</td>\n",
              "      <td>325193</td>\n",
              "      <td>164947.828</td>\n",
              "      <td>Ethyl Alcohol Manufacturing</td>\n",
              "      <td>1.100376e+11</td>\n",
              "      <td>2020</td>\n",
              "      <td>THE ANDERSONS MARATHON HOLDINGS LLC</td>\n",
              "      <td>5728 E SEBRING WARNER RD</td>\n",
              "      <td>GREENVILLE</td>\n",
              "      <td>OH</td>\n",
              "      <td>45331</td>\n",
              "      <td>DARKE COUNTY</td>\n",
              "      <td>MARATHON PETROLEUM CORP</td>\n",
              "      <td>539 South Main Street</td>\n",
              "      <td>Findlay</td>\n",
              "      <td>OH</td>\n",
              "      <td>45840</td>\n",
              "      <td>25.0000</td>\n",
              "      <td>325193</td>\n",
              "      <td>41236.957000</td>\n",
              "    </tr>\n",
              "    <tr>\n",
              "      <th>1000035</th>\n",
              "      <td>THE ANDERSONS MARATHON HOLDINGS LLC</td>\n",
              "      <td>325193</td>\n",
              "      <td>164947.828</td>\n",
              "      <td>Ethyl Alcohol Manufacturing</td>\n",
              "      <td>1.100376e+11</td>\n",
              "      <td>2020</td>\n",
              "      <td>THE ANDERSONS MARATHON HOLDINGS LLC</td>\n",
              "      <td>5728 E SEBRING WARNER RD</td>\n",
              "      <td>GREENVILLE</td>\n",
              "      <td>OH</td>\n",
              "      <td>45331</td>\n",
              "      <td>DARKE COUNTY</td>\n",
              "      <td>MARATHON PETROLEUM CORP</td>\n",
              "      <td>539 South Main Street</td>\n",
              "      <td>Findlay</td>\n",
              "      <td>OH</td>\n",
              "      <td>45840</td>\n",
              "      <td>25.0000</td>\n",
              "      <td>325193</td>\n",
              "      <td>41236.957000</td>\n",
              "    </tr>\n",
              "    <tr>\n",
              "      <th>1000047</th>\n",
              "      <td>PENOBSCOT ENERGY RECOVERY CO.</td>\n",
              "      <td>562213</td>\n",
              "      <td>38877.338</td>\n",
              "      <td>Solid Waste Combustors and Incinerators</td>\n",
              "      <td>1.100099e+11</td>\n",
              "      <td>2020</td>\n",
              "      <td>PENOBSCOT ENERGY RECOVERY CO.</td>\n",
              "      <td>29 INDUSTRIAL WAY</td>\n",
              "      <td>ORRINGTON</td>\n",
              "      <td>ME</td>\n",
              "      <td>4474</td>\n",
              "      <td>PENOBSCOT COUNTY</td>\n",
              "      <td>USA ENERGY GROUP LLC</td>\n",
              "      <td>100 N Sixth Avenue, Ste 300A</td>\n",
              "      <td>Minneapolis</td>\n",
              "      <td>MN</td>\n",
              "      <td>55403</td>\n",
              "      <td>69.3100</td>\n",
              "      <td>562213</td>\n",
              "      <td>26945.882968</td>\n",
              "    </tr>\n",
              "    <tr>\n",
              "      <th>1000047</th>\n",
              "      <td>PENOBSCOT ENERGY RECOVERY CO.</td>\n",
              "      <td>562213</td>\n",
              "      <td>38877.338</td>\n",
              "      <td>Solid Waste Combustors and Incinerators</td>\n",
              "      <td>1.100099e+11</td>\n",
              "      <td>2020</td>\n",
              "      <td>PENOBSCOT ENERGY RECOVERY CO.</td>\n",
              "      <td>29 INDUSTRIAL WAY</td>\n",
              "      <td>ORRINGTON</td>\n",
              "      <td>ME</td>\n",
              "      <td>4474</td>\n",
              "      <td>PENOBSCOT COUNTY</td>\n",
              "      <td>TOWN OF ORLAND</td>\n",
              "      <td>25 School House Road</td>\n",
              "      <td>Orland</td>\n",
              "      <td>ME</td>\n",
              "      <td>4472</td>\n",
              "      <td>0.0795</td>\n",
              "      <td>562213</td>\n",
              "      <td>30.907484</td>\n",
              "    </tr>\n",
              "  </tbody>\n",
              "</table>\n",
              "</div>"
            ],
            "text/plain": [
              "                                        Name  ... PARENT EMISSIONS AMT\n",
              "1000035  THE ANDERSONS MARATHON HOLDINGS LLC  ...         82473.914000\n",
              "1000035  THE ANDERSONS MARATHON HOLDINGS LLC  ...         41236.957000\n",
              "1000035  THE ANDERSONS MARATHON HOLDINGS LLC  ...         41236.957000\n",
              "1000047        PENOBSCOT ENERGY RECOVERY CO.  ...         26945.882968\n",
              "1000047        PENOBSCOT ENERGY RECOVERY CO.  ...            30.907484\n",
              "\n",
              "[5 rows x 20 columns]"
            ]
          },
          "metadata": {}
        },
        {
          "output_type": "display_data",
          "data": {
            "text/html": [
              "<h2>Suppliers:</h2>"
            ],
            "text/plain": [
              "<IPython.core.display.HTML object>"
            ]
          },
          "metadata": {}
        },
        {
          "output_type": "display_data",
          "data": {
            "text/html": [
              "<div>\n",
              "<style scoped>\n",
              "    .dataframe tbody tr th:only-of-type {\n",
              "        vertical-align: middle;\n",
              "    }\n",
              "\n",
              "    .dataframe tbody tr th {\n",
              "        vertical-align: top;\n",
              "    }\n",
              "\n",
              "    .dataframe thead th {\n",
              "        text-align: right;\n",
              "    }\n",
              "</style>\n",
              "<table border=\"1\" class=\"dataframe\">\n",
              "  <thead>\n",
              "    <tr style=\"text-align: right;\">\n",
              "      <th></th>\n",
              "      <th>Name</th>\n",
              "      <th>2017 NAICS Code</th>\n",
              "      <th>Emissions (tCO2e)</th>\n",
              "      <th>2017 NAICS Title</th>\n",
              "      <th>FRS ID (FACILITY)</th>\n",
              "      <th>REPORTING YEAR</th>\n",
              "      <th>FACILITY NAME</th>\n",
              "      <th>FACILITY ADDRESS</th>\n",
              "      <th>FACILITY CITY</th>\n",
              "      <th>FACILITY STATE</th>\n",
              "      <th>FACILITY ZIP</th>\n",
              "      <th>FACILITY COUNTY</th>\n",
              "      <th>PARENT COMPANY NAME</th>\n",
              "      <th>PARENT CO. STREET ADDRESS</th>\n",
              "      <th>PARENT CO. CITY</th>\n",
              "      <th>PARENT CO. STATE</th>\n",
              "      <th>PARENT CO. ZIP</th>\n",
              "      <th>PARENT CO. PERCENT OWNERSHIP</th>\n",
              "      <th>FACILITY NAICS CODE</th>\n",
              "      <th>PARENT EMISSIONS AMT</th>\n",
              "    </tr>\n",
              "  </thead>\n",
              "  <tbody>\n",
              "    <tr>\n",
              "      <th>1002235</th>\n",
              "      <td>DISCOVERY PRODUCER SERVICES LLC - DISCOVERY PA...</td>\n",
              "      <td>211130</td>\n",
              "      <td>1882164.8</td>\n",
              "      <td>Natural Gas Extraction</td>\n",
              "      <td>1.100006e+11</td>\n",
              "      <td>2020</td>\n",
              "      <td>DISCOVERY PRODUCER SERVICES LLC - DISCOVERY PA...</td>\n",
              "      <td>15849B OLD SPANISH TRAIL</td>\n",
              "      <td>PARADIS</td>\n",
              "      <td>LA</td>\n",
              "      <td>70080</td>\n",
              "      <td>ST. CHARLES PARISH</td>\n",
              "      <td>THE WILLIAMS COS INC</td>\n",
              "      <td>One Williams Center</td>\n",
              "      <td>Tulsa</td>\n",
              "      <td>OK</td>\n",
              "      <td>74172</td>\n",
              "      <td>60.000000</td>\n",
              "      <td>211130</td>\n",
              "      <td>1.129299e+06</td>\n",
              "    </tr>\n",
              "    <tr>\n",
              "      <th>1002235</th>\n",
              "      <td>DISCOVERY PRODUCER SERVICES LLC - DISCOVERY PA...</td>\n",
              "      <td>211130</td>\n",
              "      <td>1882164.8</td>\n",
              "      <td>Natural Gas Extraction</td>\n",
              "      <td>1.100006e+11</td>\n",
              "      <td>2020</td>\n",
              "      <td>DISCOVERY PRODUCER SERVICES LLC - DISCOVERY PA...</td>\n",
              "      <td>15849B OLD SPANISH TRAIL</td>\n",
              "      <td>PARADIS</td>\n",
              "      <td>LA</td>\n",
              "      <td>70080</td>\n",
              "      <td>ST. CHARLES PARISH</td>\n",
              "      <td>DCP MIDSTREAM LP</td>\n",
              "      <td>370 17TH STREET, SUITE 2775</td>\n",
              "      <td>DENVER</td>\n",
              "      <td>CO</td>\n",
              "      <td>80202</td>\n",
              "      <td>40.000000</td>\n",
              "      <td>211130</td>\n",
              "      <td>7.528659e+05</td>\n",
              "    </tr>\n",
              "    <tr>\n",
              "      <th>1002251</th>\n",
              "      <td>Big Escambia Creek Gas Production, Treating an...</td>\n",
              "      <td>211130</td>\n",
              "      <td>87120.1</td>\n",
              "      <td>Natural Gas Extraction</td>\n",
              "      <td>1.100007e+11</td>\n",
              "      <td>2020</td>\n",
              "      <td>Big Escambia Creek Gas Production, Treating an...</td>\n",
              "      <td>3888 Sardis Church Road</td>\n",
              "      <td>Atmore</td>\n",
              "      <td>AL</td>\n",
              "      <td>36502</td>\n",
              "      <td>ESCAMBIA COUNTY</td>\n",
              "      <td>PHILLIP M HILLHOUSE</td>\n",
              "      <td>1400 SUMMITRIDGE DR</td>\n",
              "      <td>BEVERLY HILLS</td>\n",
              "      <td>CA</td>\n",
              "      <td>90210</td>\n",
              "      <td>0.392016</td>\n",
              "      <td>211130</td>\n",
              "      <td>3.415247e+02</td>\n",
              "    </tr>\n",
              "    <tr>\n",
              "      <th>1002251</th>\n",
              "      <td>Big Escambia Creek Gas Production, Treating an...</td>\n",
              "      <td>211130</td>\n",
              "      <td>87120.1</td>\n",
              "      <td>Natural Gas Extraction</td>\n",
              "      <td>1.100007e+11</td>\n",
              "      <td>2020</td>\n",
              "      <td>Big Escambia Creek Gas Production, Treating an...</td>\n",
              "      <td>3888 Sardis Church Road</td>\n",
              "      <td>Atmore</td>\n",
              "      <td>AL</td>\n",
              "      <td>36502</td>\n",
              "      <td>ESCAMBIA COUNTY</td>\n",
              "      <td>FAIRCHILD-WINDHAM EXPLOR CO</td>\n",
              "      <td>6300 Hi-Way 49</td>\n",
              "      <td>HATTIESBURG</td>\n",
              "      <td>MS</td>\n",
              "      <td>39401</td>\n",
              "      <td>0.179759</td>\n",
              "      <td>211130</td>\n",
              "      <td>1.566062e+02</td>\n",
              "    </tr>\n",
              "    <tr>\n",
              "      <th>1002251</th>\n",
              "      <td>Big Escambia Creek Gas Production, Treating an...</td>\n",
              "      <td>211130</td>\n",
              "      <td>87120.1</td>\n",
              "      <td>Natural Gas Extraction</td>\n",
              "      <td>1.100007e+11</td>\n",
              "      <td>2020</td>\n",
              "      <td>Big Escambia Creek Gas Production, Treating an...</td>\n",
              "      <td>3888 Sardis Church Road</td>\n",
              "      <td>Atmore</td>\n",
              "      <td>AL</td>\n",
              "      <td>36502</td>\n",
              "      <td>ESCAMBIA COUNTY</td>\n",
              "      <td>JAMES L ROGERS</td>\n",
              "      <td>24505 E BLUE MILLS RD</td>\n",
              "      <td>INDEPENDENCE</td>\n",
              "      <td>MT</td>\n",
              "      <td>64056-2244</td>\n",
              "      <td>0.031600</td>\n",
              "      <td>211130</td>\n",
              "      <td>2.752995e+01</td>\n",
              "    </tr>\n",
              "  </tbody>\n",
              "</table>\n",
              "</div>"
            ],
            "text/plain": [
              "                                                      Name  ... PARENT EMISSIONS AMT\n",
              "1002235  DISCOVERY PRODUCER SERVICES LLC - DISCOVERY PA...  ...         1.129299e+06\n",
              "1002235  DISCOVERY PRODUCER SERVICES LLC - DISCOVERY PA...  ...         7.528659e+05\n",
              "1002251  Big Escambia Creek Gas Production, Treating an...  ...         3.415247e+02\n",
              "1002251  Big Escambia Creek Gas Production, Treating an...  ...         1.566062e+02\n",
              "1002251  Big Escambia Creek Gas Production, Treating an...  ...         2.752995e+01\n",
              "\n",
              "[5 rows x 20 columns]"
            ]
          },
          "metadata": {}
        }
      ]
    },
    {
      "cell_type": "markdown",
      "metadata": {
        "id": "CbNZMgyLALXQ"
      },
      "source": [
        "# Summarize by parent company\n",
        "A major assumption here is that parent company names are standardized in EPA's database.\n",
        "\n",
        "We show the top ten parent companies in terms of emissions.\n",
        "\n",
        "Re-run the cell below and change `nlargest(10, \"PARENT EMISSIONS AMT\")` to some other number than 10 to see more of the ranking."
      ]
    },
    {
      "cell_type": "code",
      "metadata": {
        "colab": {
          "base_uri": "https://localhost:8080/",
          "height": 867
        },
        "id": "Ez25AhFp-Luj",
        "outputId": "7921bde9-a907-402c-81f4-502bd1c4a6c9"
      },
      "source": [
        "summary_e = join_emitters.groupby(\"PARENT COMPANY NAME\")[[\"PARENT EMISSIONS AMT\"]].sum()\n",
        "summary_s = join_suppliers.groupby(\"PARENT COMPANY NAME\")[[\"PARENT EMISSIONS AMT\"]].sum()\n",
        "\n",
        "display(HTML(\"<h2>Direct Emitters:</h2>\"))\n",
        "display(summary_e.nlargest(10, \"PARENT EMISSIONS AMT\").style.format({\"PARENT EMISSIONS AMT\": '{:,.0f}'}))\n",
        "display(HTML(\"<h2>Suppliers:</h2>\"))\n",
        "display(summary_s.nlargest(10, \"PARENT EMISSIONS AMT\").style.format({\"PARENT EMISSIONS AMT\": '{:,.0f}'}))"
      ],
      "execution_count": 98,
      "outputs": [
        {
          "output_type": "display_data",
          "data": {
            "text/html": [
              "<h2>Direct Emitters:</h2>"
            ],
            "text/plain": [
              "<IPython.core.display.HTML object>"
            ]
          },
          "metadata": {}
        },
        {
          "output_type": "display_data",
          "data": {
            "text/html": [
              "<style  type=\"text/css\" >\n",
              "</style><table id=\"T_23491028_5e0f_11ec_8924_0242ac1c0002\" class=\"dataframe\"><thead>    <tr>        <th class=\"blank level0\" ></th>        <th class=\"col_heading level0 col0\" >PARENT EMISSIONS AMT</th>    </tr>    <tr>        <th class=\"index_name level0\" >PARENT COMPANY NAME</th>        <th class=\"blank\" ></th>    </tr></thead><tbody>\n",
              "                <tr>\n",
              "                        <th id=\"T_23491028_5e0f_11ec_8924_0242ac1c0002level0_row0\" class=\"row_heading level0 row0\" >VISTRA CORP</th>\n",
              "                        <td id=\"T_23491028_5e0f_11ec_8924_0242ac1c0002row0_col0\" class=\"data row0 col0\" >91,785,525</td>\n",
              "            </tr>\n",
              "            <tr>\n",
              "                        <th id=\"T_23491028_5e0f_11ec_8924_0242ac1c0002level0_row1\" class=\"row_heading level0 row1\" >THE SOUTHERN CO</th>\n",
              "                        <td id=\"T_23491028_5e0f_11ec_8924_0242ac1c0002row1_col0\" class=\"data row1 col0\" >75,654,997</td>\n",
              "            </tr>\n",
              "            <tr>\n",
              "                        <th id=\"T_23491028_5e0f_11ec_8924_0242ac1c0002level0_row2\" class=\"row_heading level0 row2\" >DUKE ENERGY CORP</th>\n",
              "                        <td id=\"T_23491028_5e0f_11ec_8924_0242ac1c0002row2_col0\" class=\"data row2 col0\" >75,481,028</td>\n",
              "            </tr>\n",
              "            <tr>\n",
              "                        <th id=\"T_23491028_5e0f_11ec_8924_0242ac1c0002level0_row3\" class=\"row_heading level0 row3\" >BERKSHIRE HATHAWAY INC</th>\n",
              "                        <td id=\"T_23491028_5e0f_11ec_8924_0242ac1c0002row3_col0\" class=\"data row3 col0\" >56,781,634</td>\n",
              "            </tr>\n",
              "            <tr>\n",
              "                        <th id=\"T_23491028_5e0f_11ec_8924_0242ac1c0002level0_row4\" class=\"row_heading level0 row4\" >AMERICAN ELECTRIC POWER CO INC</th>\n",
              "                        <td id=\"T_23491028_5e0f_11ec_8924_0242ac1c0002row4_col0\" class=\"data row4 col0\" >54,017,451</td>\n",
              "            </tr>\n",
              "            <tr>\n",
              "                        <th id=\"T_23491028_5e0f_11ec_8924_0242ac1c0002level0_row5\" class=\"row_heading level0 row5\" >VOLT PARENT LP</th>\n",
              "                        <td id=\"T_23491028_5e0f_11ec_8924_0242ac1c0002row5_col0\" class=\"data row5 col0\" >44,653,216</td>\n",
              "            </tr>\n",
              "            <tr>\n",
              "                        <th id=\"T_23491028_5e0f_11ec_8924_0242ac1c0002level0_row6\" class=\"row_heading level0 row6\" >NEXTERA ENERGY INC</th>\n",
              "                        <td id=\"T_23491028_5e0f_11ec_8924_0242ac1c0002row6_col0\" class=\"data row6 col0\" >42,545,901</td>\n",
              "            </tr>\n",
              "            <tr>\n",
              "                        <th id=\"T_23491028_5e0f_11ec_8924_0242ac1c0002level0_row7\" class=\"row_heading level0 row7\" >EXXON MOBIL CORP</th>\n",
              "                        <td id=\"T_23491028_5e0f_11ec_8924_0242ac1c0002row7_col0\" class=\"data row7 col0\" >40,995,403</td>\n",
              "            </tr>\n",
              "            <tr>\n",
              "                        <th id=\"T_23491028_5e0f_11ec_8924_0242ac1c0002level0_row8\" class=\"row_heading level0 row8\" >DOMINION ENERGY INC</th>\n",
              "                        <td id=\"T_23491028_5e0f_11ec_8924_0242ac1c0002row8_col0\" class=\"data row8 col0\" >35,884,654</td>\n",
              "            </tr>\n",
              "            <tr>\n",
              "                        <th id=\"T_23491028_5e0f_11ec_8924_0242ac1c0002level0_row9\" class=\"row_heading level0 row9\" >XCEL ENERGY INC</th>\n",
              "                        <td id=\"T_23491028_5e0f_11ec_8924_0242ac1c0002row9_col0\" class=\"data row9 col0\" >35,835,046</td>\n",
              "            </tr>\n",
              "    </tbody></table>"
            ],
            "text/plain": [
              "<pandas.io.formats.style.Styler at 0x7f530c95dad0>"
            ]
          },
          "metadata": {}
        },
        {
          "output_type": "display_data",
          "data": {
            "text/html": [
              "<h2>Suppliers:</h2>"
            ],
            "text/plain": [
              "<IPython.core.display.HTML object>"
            ]
          },
          "metadata": {}
        },
        {
          "output_type": "display_data",
          "data": {
            "text/html": [
              "<style  type=\"text/css\" >\n",
              "</style><table id=\"T_234ba680_5e0f_11ec_8924_0242ac1c0002\" class=\"dataframe\"><thead>    <tr>        <th class=\"blank level0\" ></th>        <th class=\"col_heading level0 col0\" >PARENT EMISSIONS AMT</th>    </tr>    <tr>        <th class=\"index_name level0\" >PARENT COMPANY NAME</th>        <th class=\"blank\" ></th>    </tr></thead><tbody>\n",
              "                <tr>\n",
              "                        <th id=\"T_234ba680_5e0f_11ec_8924_0242ac1c0002level0_row0\" class=\"row_heading level0 row0\" >MARATHON PETROLEUM CORP</th>\n",
              "                        <td id=\"T_234ba680_5e0f_11ec_8924_0242ac1c0002row0_col0\" class=\"data row0 col0\" >401,574,105</td>\n",
              "            </tr>\n",
              "            <tr>\n",
              "                        <th id=\"T_234ba680_5e0f_11ec_8924_0242ac1c0002level0_row1\" class=\"row_heading level0 row1\" >PHILLIPS 66</th>\n",
              "                        <td id=\"T_234ba680_5e0f_11ec_8924_0242ac1c0002row1_col0\" class=\"data row1 col0\" >324,103,187</td>\n",
              "            </tr>\n",
              "            <tr>\n",
              "                        <th id=\"T_234ba680_5e0f_11ec_8924_0242ac1c0002level0_row2\" class=\"row_heading level0 row2\" >VALERO ENERGY CORP</th>\n",
              "                        <td id=\"T_234ba680_5e0f_11ec_8924_0242ac1c0002row2_col0\" class=\"data row2 col0\" >298,505,939</td>\n",
              "            </tr>\n",
              "            <tr>\n",
              "                        <th id=\"T_234ba680_5e0f_11ec_8924_0242ac1c0002level0_row3\" class=\"row_heading level0 row3\" >EXXON MOBIL CORP</th>\n",
              "                        <td id=\"T_234ba680_5e0f_11ec_8924_0242ac1c0002row3_col0\" class=\"data row3 col0\" >282,093,557</td>\n",
              "            </tr>\n",
              "            <tr>\n",
              "                        <th id=\"T_234ba680_5e0f_11ec_8924_0242ac1c0002level0_row4\" class=\"row_heading level0 row4\" >ENTERPRISE PRODUCTS PARTNERS LP</th>\n",
              "                        <td id=\"T_234ba680_5e0f_11ec_8924_0242ac1c0002row4_col0\" class=\"data row4 col0\" >168,952,523</td>\n",
              "            </tr>\n",
              "            <tr>\n",
              "                        <th id=\"T_234ba680_5e0f_11ec_8924_0242ac1c0002level0_row5\" class=\"row_heading level0 row5\" >SHELL PETROLEUM INC</th>\n",
              "                        <td id=\"T_234ba680_5e0f_11ec_8924_0242ac1c0002row5_col0\" class=\"data row5 col0\" >149,092,739</td>\n",
              "            </tr>\n",
              "            <tr>\n",
              "                        <th id=\"T_234ba680_5e0f_11ec_8924_0242ac1c0002level0_row6\" class=\"row_heading level0 row6\" >BP AMERICA INC</th>\n",
              "                        <td id=\"T_234ba680_5e0f_11ec_8924_0242ac1c0002row6_col0\" class=\"data row6 col0\" >133,602,244</td>\n",
              "            </tr>\n",
              "            <tr>\n",
              "                        <th id=\"T_234ba680_5e0f_11ec_8924_0242ac1c0002level0_row7\" class=\"row_heading level0 row7\" >CHEVRON CORP</th>\n",
              "                        <td id=\"T_234ba680_5e0f_11ec_8924_0242ac1c0002row7_col0\" class=\"data row7 col0\" >132,910,747</td>\n",
              "            </tr>\n",
              "            <tr>\n",
              "                        <th id=\"T_234ba680_5e0f_11ec_8924_0242ac1c0002level0_row8\" class=\"row_heading level0 row8\" >ARAMCO SERVICES CO</th>\n",
              "                        <td id=\"T_234ba680_5e0f_11ec_8924_0242ac1c0002row8_col0\" class=\"data row8 col0\" >102,916,368</td>\n",
              "            </tr>\n",
              "            <tr>\n",
              "                        <th id=\"T_234ba680_5e0f_11ec_8924_0242ac1c0002level0_row9\" class=\"row_heading level0 row9\" >PDV AMERICA INC</th>\n",
              "                        <td id=\"T_234ba680_5e0f_11ec_8924_0242ac1c0002row9_col0\" class=\"data row9 col0\" >99,698,714</td>\n",
              "            </tr>\n",
              "    </tbody></table>"
            ],
            "text/plain": [
              "<pandas.io.formats.style.Styler at 0x7f530c949650>"
            ]
          },
          "metadata": {}
        }
      ]
    },
    {
      "cell_type": "markdown",
      "metadata": {
        "id": "nPE9BUQET1Lb"
      },
      "source": [
        "What share of all US emissions covered under EPA's GHGRP do these 10 corporations account for? (See similar measurements done for the entire world and for several decades: https://b8f65cb373b1b7b15feb-c70d8ead6ced550b4d987d7c03fcdd1d.ssl.cf3.rackcdn.com/cms/reports/documents/000/002/327/original/Carbon-Majors-Report-2017.pdf?1499691240)"
      ]
    },
    {
      "cell_type": "code",
      "metadata": {
        "colab": {
          "base_uri": "https://localhost:8080/",
          "height": 181
        },
        "id": "SJDwMfshUD8C",
        "outputId": "7a1dbaed-3af8-4202-bcbd-2179f5937793"
      },
      "source": [
        "#int(fac_data.sum()) #6,648,566,817 - emissions total from the XLSX file\n",
        "#int(summary[\"PARENT EMISSIONS AMT\"].sum()) 6,610,541,381 - emissions total from after joining with parent companies.\n",
        "# There is a discrepancy of about 38,000,000 tons. It is likely that there are some facilities that reported emissions to the GHGRP that could not be matched with a parent company in EPA's database.\n",
        "\n",
        "display(HTML(\"<h2>Direct Emitters:</h2>\"))\n",
        "display((summary_e.nlargest(10, \"PARENT EMISSIONS AMT\").sum() / summary_e[\"PARENT EMISSIONS AMT\"].sum()) * 100)\n",
        "display(HTML(\"<h2>Suppliers:</h2>\"))\n",
        "display((summary_s.nlargest(10, \"PARENT EMISSIONS AMT\").sum() / summary_s[\"PARENT EMISSIONS AMT\"].sum()) * 100)\n"
      ],
      "execution_count": 111,
      "outputs": [
        {
          "output_type": "display_data",
          "data": {
            "text/html": [
              "<h2>Direct Emitters:</h2>"
            ],
            "text/plain": [
              "<IPython.core.display.HTML object>"
            ]
          },
          "metadata": {}
        },
        {
          "output_type": "display_data",
          "data": {
            "text/plain": [
              "PARENT EMISSIONS AMT    21.592877\n",
              "dtype: float64"
            ]
          },
          "metadata": {}
        },
        {
          "output_type": "display_data",
          "data": {
            "text/html": [
              "<h2>Suppliers:</h2>"
            ],
            "text/plain": [
              "<IPython.core.display.HTML object>"
            ]
          },
          "metadata": {}
        },
        {
          "output_type": "display_data",
          "data": {
            "text/plain": [
              "PARENT EMISSIONS AMT    51.733922\n",
              "dtype: float64"
            ]
          },
          "metadata": {}
        }
      ]
    },
    {
      "cell_type": "markdown",
      "metadata": {
        "id": "UlhSD793pZNp"
      },
      "source": [
        "How many companies account for ~50% of US emissions reported under GHGRP? By adjusting the number in `nlargest(#)` we can see that the 50 largest companies account for 50% of reported direct emissions while just the 10 largest suppliers account for 50% of emissions."
      ]
    },
    {
      "cell_type": "code",
      "metadata": {
        "colab": {
          "base_uri": "https://localhost:8080/",
          "height": 181
        },
        "id": "nS0ZEbRPpgQE",
        "outputId": "f1312ba0-9740-4f80-a6b6-a84b71556682"
      },
      "source": [
        "display(HTML(\"<h2>Direct Emitters:</h2>\"))\n",
        "display((summary_e.nlargest(50, \"PARENT EMISSIONS AMT\").sum() / summary_e[\"PARENT EMISSIONS AMT\"].sum()) * 100)\n",
        "display(HTML(\"<h2>Suppliers:</h2>\"))\n",
        "display((summary_s.nlargest(10, \"PARENT EMISSIONS AMT\").sum() / summary_s[\"PARENT EMISSIONS AMT\"].sum()) * 100)"
      ],
      "execution_count": 108,
      "outputs": [
        {
          "output_type": "display_data",
          "data": {
            "text/html": [
              "<h2>Direct Emitters:</h2>"
            ],
            "text/plain": [
              "<IPython.core.display.HTML object>"
            ]
          },
          "metadata": {}
        },
        {
          "output_type": "display_data",
          "data": {
            "text/plain": [
              "PARENT EMISSIONS AMT    49.449173\n",
              "dtype: float64"
            ]
          },
          "metadata": {}
        },
        {
          "output_type": "display_data",
          "data": {
            "text/html": [
              "<h2>Suppliers:</h2>"
            ],
            "text/plain": [
              "<IPython.core.display.HTML object>"
            ]
          },
          "metadata": {}
        },
        {
          "output_type": "display_data",
          "data": {
            "text/plain": [
              "PARENT EMISSIONS AMT    51.733922\n",
              "dtype: float64"
            ]
          },
          "metadata": {}
        }
      ]
    },
    {
      "cell_type": "markdown",
      "source": [
        "# Analyze"
      ],
      "metadata": {
        "id": "fzVGyUHD5vWG"
      }
    },
    {
      "cell_type": "markdown",
      "metadata": {
        "id": "xLiq5b78SiKg"
      },
      "source": [
        "## State Trends\n",
        "\n",
        "Illustrate the top polluting companies based on owned facilities within a specific state\n",
        "\n",
        "First, choose whether to focus on direct emitters or suppliers"
      ]
    },
    {
      "cell_type": "code",
      "source": [
        "import ipywidgets as widgets\n",
        "t = widgets.RadioButtons(\n",
        "    options=['Emitters', 'Suppliers'],\n",
        "    description='Type: ',\n",
        "    disabled=False\n",
        ")\n",
        "display(t)"
      ],
      "metadata": {
        "colab": {
          "base_uri": "https://localhost:8080/",
          "height": 81,
          "referenced_widgets": [
            "b987ec56d0964fc1a6fa292f02bb1788",
            "c22632d5a0ff4a53b36e6ccb510d424b",
            "534188128cd94c44b12a2400dc4e93bd"
          ]
        },
        "id": "v3JXV5km4Ccv",
        "outputId": "755d6909-2f06-4db3-f2db-851bceac7420"
      },
      "execution_count": 119,
      "outputs": [
        {
          "output_type": "display_data",
          "data": {
            "application/vnd.jupyter.widget-view+json": {
              "model_id": "b987ec56d0964fc1a6fa292f02bb1788",
              "version_minor": 0,
              "version_major": 2
            },
            "text/plain": [
              "RadioButtons(description='Type: ', options=('Emitters', 'Suppliers'), value='Emitters')"
            ]
          },
          "metadata": {}
        }
      ]
    },
    {
      "cell_type": "markdown",
      "source": [
        "Then, choose a state:"
      ],
      "metadata": {
        "id": "2IQe5UcI4eHE"
      }
    },
    {
      "cell_type": "code",
      "metadata": {
        "colab": {
          "base_uri": "https://localhost:8080/",
          "height": 49,
          "referenced_widgets": [
            "75eea3644a2f419ea7e58252b7aa7a90",
            "ae1152d389aa4165b1f8fbfee5163517",
            "7ffa56af511d4150beee7443bbb7ade6"
          ]
        },
        "id": "YPW9LJ57WNJu",
        "outputId": "02187ac5-ad4b-4e44-d106-e43d6dbaf5f7"
      },
      "source": [
        "if t.value == \"Emitters\":\n",
        "  states = list(join_emitters['FACILITY STATE'].unique())\n",
        "  states.sort()\n",
        "  join = join_emitters\n",
        "elif t.value == \"Suppliers\":\n",
        "  states = list(join_suppliers['FACILITY STATE'].unique())\n",
        "  states.sort()\n",
        "  join = join_suppliers\n",
        "\n",
        "state_selection = widgets.Dropdown(\n",
        "    options=states,\n",
        "    description='Select a state:'\n",
        ")\n",
        "state_selection"
      ],
      "execution_count": 124,
      "outputs": [
        {
          "output_type": "display_data",
          "data": {
            "application/vnd.jupyter.widget-view+json": {
              "model_id": "75eea3644a2f419ea7e58252b7aa7a90",
              "version_minor": 0,
              "version_major": 2
            },
            "text/plain": [
              "Dropdown(description='Select a state:', options=('AK', 'AL', 'AR', 'AZ', 'CA', 'CO', 'CT', 'DE', 'FL', 'GA', '…"
            ]
          },
          "metadata": {}
        }
      ]
    },
    {
      "cell_type": "markdown",
      "metadata": {
        "id": "H-wyKRZragNu"
      },
      "source": [
        "Next, we'll show the top ten parent companies in terms of direct or supplied emissions in this state.\n",
        "\n",
        "Re-run the cell above to select a different geography and then run this one again to see the new results. You can also change `geo_summary.nlargest(10, \"PARENT EMISSIONS AMT\")` to some other number than 10 to see more of the ranking."
      ]
    },
    {
      "cell_type": "code",
      "metadata": {
        "colab": {
          "base_uri": "https://localhost:8080/",
          "height": 269
        },
        "id": "VcEAM8o4ShXi",
        "outputId": "7574ebc1-0b3c-4bee-df3e-7b911c643f4d"
      },
      "source": [
        "# Filter the data to the selected state\n",
        "geo_join = join.loc[join['FACILITY STATE'] == state_selection.value]\n",
        "geo_summary = geo_join.groupby(\"PARENT COMPANY NAME\")[[\"PARENT EMISSIONS AMT\"]].sum()\n",
        "geo_summary.nlargest(10, \"PARENT EMISSIONS AMT\").style.format({\"PARENT EMISSIONS AMT\": '{:,.0f}'})"
      ],
      "execution_count": 125,
      "outputs": [
        {
          "output_type": "execute_result",
          "data": {
            "text/html": [
              "<style  type=\"text/css\" >\n",
              "</style><table id=\"T_f6fa17fe_5e10_11ec_8924_0242ac1c0002\" class=\"dataframe\"><thead>    <tr>        <th class=\"blank level0\" ></th>        <th class=\"col_heading level0 col0\" >PARENT EMISSIONS AMT</th>    </tr>    <tr>        <th class=\"index_name level0\" >PARENT COMPANY NAME</th>        <th class=\"blank\" ></th>    </tr></thead><tbody>\n",
              "                <tr>\n",
              "                        <th id=\"T_f6fa17fe_5e10_11ec_8924_0242ac1c0002level0_row0\" class=\"row_heading level0 row0\" >BERKSHIRE HATHAWAY INC</th>\n",
              "                        <td id=\"T_f6fa17fe_5e10_11ec_8924_0242ac1c0002row0_col0\" class=\"data row0 col0\" >9,571,724</td>\n",
              "            </tr>\n",
              "            <tr>\n",
              "                        <th id=\"T_f6fa17fe_5e10_11ec_8924_0242ac1c0002level0_row1\" class=\"row_heading level0 row1\" >ALLIANT ENERGY CORP</th>\n",
              "                        <td id=\"T_f6fa17fe_5e10_11ec_8924_0242ac1c0002row1_col0\" class=\"data row1 col0\" >5,118,834</td>\n",
              "            </tr>\n",
              "            <tr>\n",
              "                        <th id=\"T_f6fa17fe_5e10_11ec_8924_0242ac1c0002level0_row2\" class=\"row_heading level0 row2\" >BLACK HILLS CORP</th>\n",
              "                        <td id=\"T_f6fa17fe_5e10_11ec_8924_0242ac1c0002row2_col0\" class=\"data row2 col0\" >1,942,975</td>\n",
              "            </tr>\n",
              "            <tr>\n",
              "                        <th id=\"T_f6fa17fe_5e10_11ec_8924_0242ac1c0002level0_row3\" class=\"row_heading level0 row3\" >LIBERTY UTILITIES CO</th>\n",
              "                        <td id=\"T_f6fa17fe_5e10_11ec_8924_0242ac1c0002row3_col0\" class=\"data row3 col0\" >149,645</td>\n",
              "            </tr>\n",
              "            <tr>\n",
              "                        <th id=\"T_f6fa17fe_5e10_11ec_8924_0242ac1c0002level0_row4\" class=\"row_heading level0 row4\" >CEDAR FALLS UTILITIES</th>\n",
              "                        <td id=\"T_f6fa17fe_5e10_11ec_8924_0242ac1c0002row4_col0\" class=\"data row4 col0\" >133,034</td>\n",
              "            </tr>\n",
              "            <tr>\n",
              "                        <th id=\"T_f6fa17fe_5e10_11ec_8924_0242ac1c0002level0_row5\" class=\"row_heading level0 row5\" >CITY OF SIOUX CENTER</th>\n",
              "                        <td id=\"T_f6fa17fe_5e10_11ec_8924_0242ac1c0002row5_col0\" class=\"data row5 col0\" >75,852</td>\n",
              "            </tr>\n",
              "    </tbody></table>"
            ],
            "text/plain": [
              "<pandas.io.formats.style.Styler at 0x7f530cc42050>"
            ]
          },
          "metadata": {},
          "execution_count": 125
        }
      ]
    },
    {
      "cell_type": "markdown",
      "metadata": {
        "id": "qejR1DglBb6A"
      },
      "source": [
        "## National Trends"
      ]
    },
    {
      "cell_type": "markdown",
      "metadata": {
        "id": "dJ5NJHYcbMst"
      },
      "source": [
        "In what follows, we'll look at how specific kinds of parent companies/owners stack up in terms of emissions *nationwide*."
      ]
    },
    {
      "cell_type": "markdown",
      "metadata": {
        "id": "tUx8k5AeC_V-"
      },
      "source": [
        "How are universities implicated? Let's look at the top 10. Again, to see more of the ranking change ...`.nlargest(20, 'PARENT EMISSIONS AMT')` to some other number than 10."
      ]
    },
    {
      "cell_type": "code",
      "metadata": {
        "colab": {
          "base_uri": "https://localhost:8080/",
          "height": 553
        },
        "id": "tsjeCVMjC6o-",
        "outputId": "fe6b3f8b-de87-4df0-dd7d-ee572b9a2740"
      },
      "source": [
        "e = summary_e.query(\"index.str.lower().str.contains('university')\",engine='python').nlargest(10, 'PARENT EMISSIONS AMT')\n",
        "e.style.format({\"PARENT EMISSIONS AMT\": '{:,.0f}'})\n",
        "\n",
        "s = summary_s.query(\"index.str.lower().str.contains('university')\",engine='python').nlargest(10, 'PARENT EMISSIONS AMT')\n",
        "s.style.format({\"PARENT EMISSIONS AMT\": '{:,.0f}'})\n",
        "\n",
        "\n",
        "display(HTML(\"<h2>Direct Emitters:</h2>\"))\n",
        "display(e)\n",
        "display(HTML(\"<h2>Suppliers:</h2>\"))\n",
        "display(s)"
      ],
      "execution_count": 170,
      "outputs": [
        {
          "output_type": "display_data",
          "data": {
            "text/html": [
              "<h2>Direct Emitters:</h2>"
            ],
            "text/plain": [
              "<IPython.core.display.HTML object>"
            ]
          },
          "metadata": {}
        },
        {
          "output_type": "display_data",
          "data": {
            "text/html": [
              "<div>\n",
              "<style scoped>\n",
              "    .dataframe tbody tr th:only-of-type {\n",
              "        vertical-align: middle;\n",
              "    }\n",
              "\n",
              "    .dataframe tbody tr th {\n",
              "        vertical-align: top;\n",
              "    }\n",
              "\n",
              "    .dataframe thead th {\n",
              "        text-align: right;\n",
              "    }\n",
              "</style>\n",
              "<table border=\"1\" class=\"dataframe\">\n",
              "  <thead>\n",
              "    <tr style=\"text-align: right;\">\n",
              "      <th></th>\n",
              "      <th>PARENT EMISSIONS AMT</th>\n",
              "    </tr>\n",
              "    <tr>\n",
              "      <th>PARENT COMPANY NAME</th>\n",
              "      <th></th>\n",
              "    </tr>\n",
              "  </thead>\n",
              "  <tbody>\n",
              "    <tr>\n",
              "      <th>MICHIGAN STATE UNIVERSITY</th>\n",
              "      <td>337811.294</td>\n",
              "    </tr>\n",
              "    <tr>\n",
              "      <th>UNIVERSITY OF TEXAS SYSTEM</th>\n",
              "      <td>323374.830</td>\n",
              "    </tr>\n",
              "    <tr>\n",
              "      <th>UNIVERSITY OF ILLINOIS</th>\n",
              "      <td>309406.046</td>\n",
              "    </tr>\n",
              "    <tr>\n",
              "      <th>THE REGENTS OF THE UNIVERSITY OF MICHIGAN</th>\n",
              "      <td>245595.806</td>\n",
              "    </tr>\n",
              "    <tr>\n",
              "      <th>IOWA STATE UNIVERSITY OF SCIENCE &amp;  TECHNOLOGY</th>\n",
              "      <td>203541.026</td>\n",
              "    </tr>\n",
              "    <tr>\n",
              "      <th>THE PENNSYLVANIA STATE UNIVERSITY</th>\n",
              "      <td>154219.308</td>\n",
              "    </tr>\n",
              "    <tr>\n",
              "      <th>THE UNIVERSITY OF IOWA</th>\n",
              "      <td>153483.048</td>\n",
              "    </tr>\n",
              "    <tr>\n",
              "      <th>CORNELL UNIVERSITY</th>\n",
              "      <td>152367.766</td>\n",
              "    </tr>\n",
              "    <tr>\n",
              "      <th>UNIVERSITY OF CINCINNATI</th>\n",
              "      <td>147966.736</td>\n",
              "    </tr>\n",
              "    <tr>\n",
              "      <th>THE VANDERBILT UNIVERSITY</th>\n",
              "      <td>133650.948</td>\n",
              "    </tr>\n",
              "  </tbody>\n",
              "</table>\n",
              "</div>"
            ],
            "text/plain": [
              "                                                PARENT EMISSIONS AMT\n",
              "PARENT COMPANY NAME                                                 \n",
              "MICHIGAN STATE UNIVERSITY                                 337811.294\n",
              "UNIVERSITY OF TEXAS SYSTEM                                323374.830\n",
              "UNIVERSITY OF ILLINOIS                                    309406.046\n",
              "THE REGENTS OF THE UNIVERSITY OF MICHIGAN                 245595.806\n",
              "IOWA STATE UNIVERSITY OF SCIENCE &  TECHNOLOGY            203541.026\n",
              "THE PENNSYLVANIA STATE UNIVERSITY                         154219.308\n",
              "THE UNIVERSITY OF IOWA                                    153483.048\n",
              "CORNELL UNIVERSITY                                        152367.766\n",
              "UNIVERSITY OF CINCINNATI                                  147966.736\n",
              "THE VANDERBILT UNIVERSITY                                 133650.948"
            ]
          },
          "metadata": {}
        },
        {
          "output_type": "display_data",
          "data": {
            "text/html": [
              "<h2>Suppliers:</h2>"
            ],
            "text/plain": [
              "<IPython.core.display.HTML object>"
            ]
          },
          "metadata": {}
        },
        {
          "output_type": "display_data",
          "data": {
            "text/html": [
              "<div>\n",
              "<style scoped>\n",
              "    .dataframe tbody tr th:only-of-type {\n",
              "        vertical-align: middle;\n",
              "    }\n",
              "\n",
              "    .dataframe tbody tr th {\n",
              "        vertical-align: top;\n",
              "    }\n",
              "\n",
              "    .dataframe thead th {\n",
              "        text-align: right;\n",
              "    }\n",
              "</style>\n",
              "<table border=\"1\" class=\"dataframe\">\n",
              "  <thead>\n",
              "    <tr style=\"text-align: right;\">\n",
              "      <th></th>\n",
              "      <th>PARENT EMISSIONS AMT</th>\n",
              "    </tr>\n",
              "    <tr>\n",
              "      <th>PARENT COMPANY NAME</th>\n",
              "      <th></th>\n",
              "    </tr>\n",
              "  </thead>\n",
              "  <tbody>\n",
              "  </tbody>\n",
              "</table>\n",
              "</div>"
            ],
            "text/plain": [
              "Empty DataFrame\n",
              "Columns: [PARENT EMISSIONS AMT]\n",
              "Index: []"
            ]
          },
          "metadata": {}
        }
      ]
    },
    {
      "cell_type": "code",
      "metadata": {
        "colab": {
          "base_uri": "https://localhost:8080/",
          "height": 349
        },
        "id": "umaJFngsKpou",
        "outputId": "1608506b-ed8f-42bc-a3f7-395c17ab4c81"
      },
      "source": [
        "import numpy as np\n",
        "fig, ax = plt.subplots()\n",
        "ax.barh(np.arange(e.shape[0]), e[\"PARENT EMISSIONS AMT\"]) #, orientation='horizontal').invert_yaxis()\n",
        "ax.set_yticks(np.arange(e.shape[0]))\n",
        "ax.set_yticklabels(list(e.index))\n",
        "ax.invert_yaxis() \n",
        "ax.set_xlabel('Emissions (tCO2e)')\n",
        "ax.set_title('Universities')\n",
        "ax.ticklabel_format(axis = 'x', style='plain')\n",
        "plt.xticks(rotation=45)\n",
        "plt.show()"
      ],
      "execution_count": 171,
      "outputs": [
        {
          "output_type": "display_data",
          "data": {
            "image/png": "[encoded data removed]",
            "text/plain": [
              "<Figure size 432x288 with 1 Axes>"
            ]
          },
          "metadata": {
            "needs_background": "dark"
          }
        }
      ]
    },
    {
      "cell_type": "markdown",
      "metadata": {
        "id": "7OBAi6R-FRNX"
      },
      "source": [
        "Municipalities?"
      ]
    },
    {
      "cell_type": "code",
      "metadata": {
        "colab": {
          "base_uri": "https://localhost:8080/",
          "height": 867
        },
        "id": "5X6bnISsDheh",
        "outputId": "9b23ce3e-7636-47b9-c129-dbf87fc1c1b2"
      },
      "source": [
        "e = summary_e.query(\"index.str.lower().str.contains('city of')\",engine='python').nlargest(10, 'PARENT EMISSIONS AMT')\n",
        "e.style.format({\"PARENT EMISSIONS AMT\": '{:,.0f}'})\n",
        "\n",
        "s = summary_s.query(\"index.str.lower().str.contains('city of')\",engine='python').nlargest(10, 'PARENT EMISSIONS AMT')\n",
        "s.style.format({\"PARENT EMISSIONS AMT\": '{:,.0f}'})\n",
        "\n",
        "\n",
        "display(HTML(\"<h2>Direct Emitters:</h2>\"))\n",
        "display(e)\n",
        "display(HTML(\"<h2>Suppliers:</h2>\"))\n",
        "display(s)"
      ],
      "execution_count": 158,
      "outputs": [
        {
          "output_type": "display_data",
          "data": {
            "text/html": [
              "<h2>Direct Emitters:</h2>"
            ],
            "text/plain": [
              "<IPython.core.display.HTML object>"
            ]
          },
          "metadata": {}
        },
        {
          "output_type": "display_data",
          "data": {
            "text/html": [
              "<div>\n",
              "<style scoped>\n",
              "    .dataframe tbody tr th:only-of-type {\n",
              "        vertical-align: middle;\n",
              "    }\n",
              "\n",
              "    .dataframe tbody tr th {\n",
              "        vertical-align: top;\n",
              "    }\n",
              "\n",
              "    .dataframe thead th {\n",
              "        text-align: right;\n",
              "    }\n",
              "</style>\n",
              "<table border=\"1\" class=\"dataframe\">\n",
              "  <thead>\n",
              "    <tr style=\"text-align: right;\">\n",
              "      <th></th>\n",
              "      <th>PARENT EMISSIONS AMT</th>\n",
              "    </tr>\n",
              "    <tr>\n",
              "      <th>PARENT COMPANY NAME</th>\n",
              "      <th></th>\n",
              "    </tr>\n",
              "  </thead>\n",
              "  <tbody>\n",
              "    <tr>\n",
              "      <th>CITY OF LOS ANGELES</th>\n",
              "      <td>2.826566e+06</td>\n",
              "    </tr>\n",
              "    <tr>\n",
              "      <th>CITY OF LAKELAND</th>\n",
              "      <td>1.281472e+06</td>\n",
              "    </tr>\n",
              "    <tr>\n",
              "      <th>CITY OF TALLAHASSEE</th>\n",
              "      <td>1.074483e+06</td>\n",
              "    </tr>\n",
              "    <tr>\n",
              "      <th>CITY OF GAINESVILLE</th>\n",
              "      <td>9.490773e+05</td>\n",
              "    </tr>\n",
              "    <tr>\n",
              "      <th>CITY OF SPRINGFIELD</th>\n",
              "      <td>8.878798e+05</td>\n",
              "    </tr>\n",
              "    <tr>\n",
              "      <th>CITY WATER &amp; LIGHT PLANT OF THE CITY OF JONESBORO</th>\n",
              "      <td>5.650328e+05</td>\n",
              "    </tr>\n",
              "    <tr>\n",
              "      <th>CITY OF EL PASO</th>\n",
              "      <td>5.276378e+05</td>\n",
              "    </tr>\n",
              "    <tr>\n",
              "      <th>PUBLIC UTILITIES BOARD OF THE CITY OF BROWNSVILLE TEXAS</th>\n",
              "      <td>5.096632e+05</td>\n",
              "    </tr>\n",
              "    <tr>\n",
              "      <th>CITY OF FARMINGTON</th>\n",
              "      <td>4.624901e+05</td>\n",
              "    </tr>\n",
              "    <tr>\n",
              "      <th>CITY OF FREMONT</th>\n",
              "      <td>4.547515e+05</td>\n",
              "    </tr>\n",
              "  </tbody>\n",
              "</table>\n",
              "</div>"
            ],
            "text/plain": [
              "                                                    PARENT EMISSIONS AMT\n",
              "PARENT COMPANY NAME                                                     \n",
              "CITY OF LOS ANGELES                                         2.826566e+06\n",
              "CITY OF LAKELAND                                            1.281472e+06\n",
              "CITY OF TALLAHASSEE                                         1.074483e+06\n",
              "CITY OF GAINESVILLE                                         9.490773e+05\n",
              "CITY OF SPRINGFIELD                                         8.878798e+05\n",
              "CITY WATER & LIGHT PLANT OF THE CITY OF JONESBORO           5.650328e+05\n",
              "CITY OF EL PASO                                             5.276378e+05\n",
              "PUBLIC UTILITIES BOARD OF THE CITY OF BROWNSVIL...          5.096632e+05\n",
              "CITY OF FARMINGTON                                          4.624901e+05\n",
              "CITY OF FREMONT                                             4.547515e+05"
            ]
          },
          "metadata": {}
        },
        {
          "output_type": "display_data",
          "data": {
            "text/html": [
              "<h2>Suppliers:</h2>"
            ],
            "text/plain": [
              "<IPython.core.display.HTML object>"
            ]
          },
          "metadata": {}
        },
        {
          "output_type": "display_data",
          "data": {
            "text/html": [
              "<div>\n",
              "<style scoped>\n",
              "    .dataframe tbody tr th:only-of-type {\n",
              "        vertical-align: middle;\n",
              "    }\n",
              "\n",
              "    .dataframe tbody tr th {\n",
              "        vertical-align: top;\n",
              "    }\n",
              "\n",
              "    .dataframe thead th {\n",
              "        text-align: right;\n",
              "    }\n",
              "</style>\n",
              "<table border=\"1\" class=\"dataframe\">\n",
              "  <thead>\n",
              "    <tr style=\"text-align: right;\">\n",
              "      <th></th>\n",
              "      <th>PARENT EMISSIONS AMT</th>\n",
              "    </tr>\n",
              "    <tr>\n",
              "      <th>PARENT COMPANY NAME</th>\n",
              "      <th></th>\n",
              "    </tr>\n",
              "  </thead>\n",
              "  <tbody>\n",
              "    <tr>\n",
              "      <th>CITY OF MEMPHIS</th>\n",
              "      <td>4299743.7</td>\n",
              "    </tr>\n",
              "    <tr>\n",
              "      <th>CITY OF RICHMOND</th>\n",
              "      <td>1170827.0</td>\n",
              "    </tr>\n",
              "    <tr>\n",
              "      <th>CITY OF KINGS MOUNTAIN</th>\n",
              "      <td>1104325.7</td>\n",
              "    </tr>\n",
              "    <tr>\n",
              "      <th>CITY OF GAINESVILLE</th>\n",
              "      <td>975082.4</td>\n",
              "    </tr>\n",
              "    <tr>\n",
              "      <th>CITY OF CARROLLTON</th>\n",
              "      <td>566298.5</td>\n",
              "    </tr>\n",
              "    <tr>\n",
              "      <th>CITY OF LONG BEACH</th>\n",
              "      <td>506599.2</td>\n",
              "    </tr>\n",
              "    <tr>\n",
              "      <th>BREWTON CITY OF (INC)</th>\n",
              "      <td>395495.7</td>\n",
              "    </tr>\n",
              "    <tr>\n",
              "      <th>CITY OF MADISON ALABAMA</th>\n",
              "      <td>375916.3</td>\n",
              "    </tr>\n",
              "    <tr>\n",
              "      <th>CITY OF MUSCLE SHOALS</th>\n",
              "      <td>375916.3</td>\n",
              "    </tr>\n",
              "    <tr>\n",
              "      <th>CITY OF AUSTELL GEORGIA</th>\n",
              "      <td>338935.1</td>\n",
              "    </tr>\n",
              "  </tbody>\n",
              "</table>\n",
              "</div>"
            ],
            "text/plain": [
              "                         PARENT EMISSIONS AMT\n",
              "PARENT COMPANY NAME                          \n",
              "CITY OF MEMPHIS                     4299743.7\n",
              "CITY OF RICHMOND                    1170827.0\n",
              "CITY OF KINGS MOUNTAIN              1104325.7\n",
              "CITY OF GAINESVILLE                  975082.4\n",
              "CITY OF CARROLLTON                   566298.5\n",
              "CITY OF LONG BEACH                   506599.2\n",
              "BREWTON CITY OF (INC)                395495.7\n",
              "CITY OF MADISON ALABAMA              375916.3\n",
              "CITY OF MUSCLE SHOALS                375916.3\n",
              "CITY OF AUSTELL GEORGIA              338935.1"
            ]
          },
          "metadata": {}
        }
      ]
    },
    {
      "cell_type": "code",
      "metadata": {
        "colab": {
          "base_uri": "https://localhost:8080/",
          "height": 695
        },
        "id": "qJeR1fsFK7FF",
        "outputId": "9f536916-5b99-4d33-851b-f794726176d8"
      },
      "source": [
        "fig, ax = plt.subplots()\n",
        "ax.barh(np.arange(e.shape[0]), e[\"PARENT EMISSIONS AMT\"])\n",
        "ax.set_yticks(np.arange(e.shape[0]))\n",
        "ax.set_yticklabels(list(e.index))\n",
        "ax.invert_yaxis() \n",
        "ax.set_xlabel('Emissions (tCO2e)')\n",
        "ax.set_title('Municipalities as Emitters')\n",
        "ax.ticklabel_format(axis = 'x', style='plain')\n",
        "plt.xticks(rotation=45)\n",
        "plt.show()\n",
        "\n",
        "fig, ax = plt.subplots()\n",
        "ax.barh(np.arange(s.shape[0]), e[\"PARENT EMISSIONS AMT\"])\n",
        "ax.set_yticks(np.arange(s.shape[0]))\n",
        "ax.set_yticklabels(list(s.index))\n",
        "ax.invert_yaxis() \n",
        "ax.set_xlabel('Emissions (tCO2e)')\n",
        "ax.set_title('Municipalities as Suppliers')\n",
        "ax.ticklabel_format(axis = 'x', style='plain')\n",
        "plt.xticks(rotation=45)\n",
        "plt.show()"
      ],
      "execution_count": 168,
      "outputs": [
        {
          "output_type": "display_data",
          "data": {
            "image/png": "[encoded data removed]",
            "text/plain": [
              "<Figure size 432x288 with 1 Axes>"
            ]
          },
          "metadata": {
            "needs_background": "dark"
          }
        },
        {
          "output_type": "display_data",
          "data": {
            "image/png": "[encoded data removed]",
            "text/plain": [
              "<Figure size 432x288 with 1 Axes>"
            ]
          },
          "metadata": {
            "needs_background": "dark"
          }
        }
      ]
    },
    {
      "cell_type": "markdown",
      "metadata": {
        "id": "jnunUd__pKEN"
      },
      "source": [
        "Something else?\n",
        "Just change the query to see the results for yourself!\n",
        "\n",
        "For instance, changing `contains('your query here')` to `contains('exxon')` would show us results for Exxon Mobil-related emissions. Be sure to uncapitalize everything."
      ]
    },
    {
      "cell_type": "code",
      "metadata": {
        "id": "SQngD2U7K92H"
      },
      "source": [
        "e = summary_e.query(\"index.str.lower().str.contains('your query here')\",engine='python').nlargest(10, 'PARENT EMISSIONS AMT')\n",
        "e.style.format({\"PARENT EMISSIONS AMT\": '{:,.0f}'})\n",
        "\n",
        "s = summary_s.query(\"index.str.lower().str.contains('your query here')\",engine='python').nlargest(10, 'PARENT EMISSIONS AMT')\n",
        "s.style.format({\"PARENT EMISSIONS AMT\": '{:,.0f}'})\n",
        "\n",
        "\n",
        "display(HTML(\"<h2>Direct Emitters:</h2>\"))\n",
        "display(e)\n",
        "display(HTML(\"<h2>Suppliers:</h2>\"))\n",
        "display(s)"
      ],
      "execution_count": null,
      "outputs": []
    },
    {
      "cell_type": "code",
      "metadata": {
        "id": "za-T-regpgEB"
      },
      "source": [
        ""
      ],
      "execution_count": null,
      "outputs": []
    }
  ]
}